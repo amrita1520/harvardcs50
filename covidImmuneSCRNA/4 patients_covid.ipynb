{
 "cells": [
  {
   "cell_type": "code",
   "execution_count": 1,
   "id": "5978af6d",
   "metadata": {},
   "outputs": [],
   "source": [
    "import scirpy as ir"
   ]
  },
  {
   "cell_type": "code",
   "execution_count": 2,
   "id": "06132036",
   "metadata": {},
   "outputs": [],
   "source": [
    "import scanpy as sc"
   ]
  },
  {
   "cell_type": "markdown",
   "id": "2dd79000",
   "metadata": {},
   "source": [
    "# loading data for patient 3 --Activated B cells from a COVID-19 ICU patient -- GSM4785603 -- p1\n"
   ]
  },
  {
   "cell_type": "code",
   "execution_count": 3,
   "id": "6658937b",
   "metadata": {},
   "outputs": [
    {
     "ename": "FileNotFoundError",
     "evalue": "``/home/arghya/Downloads/covid_full/GSE158038_RAW/p1/GSM4785605_P3.filtered_feature_bc_matrix.h5`` does not exist",
     "output_type": "error",
     "traceback": [
      "\u001b[0;31m---------------------------------------------------------------------------\u001b[0m",
      "\u001b[0;31mFileNotFoundError\u001b[0m                         Traceback (most recent call last)",
      "Cell \u001b[0;32mIn[3], line 1\u001b[0m\n\u001b[0;32m----> 1\u001b[0m adata_1\u001b[38;5;241m=\u001b[39m\u001b[43msc\u001b[49m\u001b[38;5;241;43m.\u001b[39;49m\u001b[43mread_10x_h5\u001b[49m\u001b[43m(\u001b[49m\u001b[38;5;124;43m'\u001b[39;49m\u001b[38;5;124;43m/home/arghya/Downloads/covid_full/GSE158038_RAW/p1/GSM4785605_P3.filtered_feature_bc_matrix.h5\u001b[39;49m\u001b[38;5;124;43m'\u001b[39;49m\u001b[43m)\u001b[49m\n",
      "File \u001b[0;32m~/mambaforge/lib/python3.10/site-packages/scanpy/readwrite.py:180\u001b[0m, in \u001b[0;36mread_10x_h5\u001b[0;34m(filename, genome, gex_only, backup_url)\u001b[0m\n\u001b[1;32m    178\u001b[0m \u001b[38;5;28;01mif\u001b[39;00m \u001b[38;5;129;01mnot\u001b[39;00m is_present:\n\u001b[1;32m    179\u001b[0m     logg\u001b[38;5;241m.\u001b[39mdebug(\u001b[38;5;124mf\u001b[39m\u001b[38;5;124m'\u001b[39m\u001b[38;5;124m... did not find original file \u001b[39m\u001b[38;5;132;01m{\u001b[39;00mfilename\u001b[38;5;132;01m}\u001b[39;00m\u001b[38;5;124m'\u001b[39m)\n\u001b[0;32m--> 180\u001b[0m \u001b[38;5;28;01mwith\u001b[39;00m \u001b[43mtables\u001b[49m\u001b[38;5;241;43m.\u001b[39;49m\u001b[43mopen_file\u001b[49m\u001b[43m(\u001b[49m\u001b[38;5;28;43mstr\u001b[39;49m\u001b[43m(\u001b[49m\u001b[43mfilename\u001b[49m\u001b[43m)\u001b[49m\u001b[43m,\u001b[49m\u001b[43m \u001b[49m\u001b[38;5;124;43m'\u001b[39;49m\u001b[38;5;124;43mr\u001b[39;49m\u001b[38;5;124;43m'\u001b[39;49m\u001b[43m)\u001b[49m \u001b[38;5;28;01mas\u001b[39;00m f:\n\u001b[1;32m    181\u001b[0m     v3 \u001b[38;5;241m=\u001b[39m \u001b[38;5;124m'\u001b[39m\u001b[38;5;124m/matrix\u001b[39m\u001b[38;5;124m'\u001b[39m \u001b[38;5;129;01min\u001b[39;00m f\n\u001b[1;32m    182\u001b[0m \u001b[38;5;28;01mif\u001b[39;00m v3:\n",
      "File \u001b[0;32m~/mambaforge/lib/python3.10/site-packages/tables/file.py:300\u001b[0m, in \u001b[0;36mopen_file\u001b[0;34m(filename, mode, title, root_uep, filters, **kwargs)\u001b[0m\n\u001b[1;32m    295\u001b[0m             \u001b[38;5;28;01mraise\u001b[39;00m \u001b[38;5;167;01mValueError\u001b[39;00m(\n\u001b[1;32m    296\u001b[0m                 \u001b[38;5;124m\"\u001b[39m\u001b[38;5;124mThe file \u001b[39m\u001b[38;5;124m'\u001b[39m\u001b[38;5;132;01m%s\u001b[39;00m\u001b[38;5;124m'\u001b[39m\u001b[38;5;124m is already opened.  Please \u001b[39m\u001b[38;5;124m\"\u001b[39m\n\u001b[1;32m    297\u001b[0m                 \u001b[38;5;124m\"\u001b[39m\u001b[38;5;124mclose it before reopening in write mode.\u001b[39m\u001b[38;5;124m\"\u001b[39m \u001b[38;5;241m%\u001b[39m filename)\n\u001b[1;32m    299\u001b[0m \u001b[38;5;66;03m# Finally, create the File instance, and return it\u001b[39;00m\n\u001b[0;32m--> 300\u001b[0m \u001b[38;5;28;01mreturn\u001b[39;00m \u001b[43mFile\u001b[49m\u001b[43m(\u001b[49m\u001b[43mfilename\u001b[49m\u001b[43m,\u001b[49m\u001b[43m \u001b[49m\u001b[43mmode\u001b[49m\u001b[43m,\u001b[49m\u001b[43m \u001b[49m\u001b[43mtitle\u001b[49m\u001b[43m,\u001b[49m\u001b[43m \u001b[49m\u001b[43mroot_uep\u001b[49m\u001b[43m,\u001b[49m\u001b[43m \u001b[49m\u001b[43mfilters\u001b[49m\u001b[43m,\u001b[49m\u001b[43m \u001b[49m\u001b[38;5;241;43m*\u001b[39;49m\u001b[38;5;241;43m*\u001b[39;49m\u001b[43mkwargs\u001b[49m\u001b[43m)\u001b[49m\n",
      "File \u001b[0;32m~/mambaforge/lib/python3.10/site-packages/tables/file.py:750\u001b[0m, in \u001b[0;36mFile.__init__\u001b[0;34m(self, filename, mode, title, root_uep, filters, **kwargs)\u001b[0m\n\u001b[1;32m    747\u001b[0m \u001b[38;5;28mself\u001b[39m\u001b[38;5;241m.\u001b[39mparams \u001b[38;5;241m=\u001b[39m params\n\u001b[1;32m    749\u001b[0m \u001b[38;5;66;03m# Now, it is time to initialize the File extension\u001b[39;00m\n\u001b[0;32m--> 750\u001b[0m \u001b[38;5;28;43mself\u001b[39;49m\u001b[38;5;241;43m.\u001b[39;49m\u001b[43m_g_new\u001b[49m\u001b[43m(\u001b[49m\u001b[43mfilename\u001b[49m\u001b[43m,\u001b[49m\u001b[43m \u001b[49m\u001b[43mmode\u001b[49m\u001b[43m,\u001b[49m\u001b[43m \u001b[49m\u001b[38;5;241;43m*\u001b[39;49m\u001b[38;5;241;43m*\u001b[39;49m\u001b[43mparams\u001b[49m\u001b[43m)\u001b[49m\n\u001b[1;32m    752\u001b[0m \u001b[38;5;66;03m# Check filters and set PyTables format version for new files.\u001b[39;00m\n\u001b[1;32m    753\u001b[0m new \u001b[38;5;241m=\u001b[39m \u001b[38;5;28mself\u001b[39m\u001b[38;5;241m.\u001b[39m_v_new\n",
      "File \u001b[0;32m~/mambaforge/lib/python3.10/site-packages/tables/hdf5extension.pyx:366\u001b[0m, in \u001b[0;36mtables.hdf5extension.File._g_new\u001b[0;34m()\u001b[0m\n",
      "File \u001b[0;32m~/mambaforge/lib/python3.10/site-packages/tables/utils.py:143\u001b[0m, in \u001b[0;36mcheck_file_access\u001b[0;34m(filename, mode)\u001b[0m\n\u001b[1;32m    140\u001b[0m \u001b[38;5;28;01mif\u001b[39;00m mode \u001b[38;5;241m==\u001b[39m \u001b[38;5;124m'\u001b[39m\u001b[38;5;124mr\u001b[39m\u001b[38;5;124m'\u001b[39m:\n\u001b[1;32m    141\u001b[0m     \u001b[38;5;66;03m# The file should be readable.\u001b[39;00m\n\u001b[1;32m    142\u001b[0m     \u001b[38;5;28;01mif\u001b[39;00m \u001b[38;5;129;01mnot\u001b[39;00m os\u001b[38;5;241m.\u001b[39maccess(path, os\u001b[38;5;241m.\u001b[39mF_OK):\n\u001b[0;32m--> 143\u001b[0m         \u001b[38;5;28;01mraise\u001b[39;00m \u001b[38;5;167;01mFileNotFoundError\u001b[39;00m(\u001b[38;5;124mf\u001b[39m\u001b[38;5;124m\"\u001b[39m\u001b[38;5;124m``\u001b[39m\u001b[38;5;132;01m{\u001b[39;00mpath\u001b[38;5;132;01m}\u001b[39;00m\u001b[38;5;124m`` does not exist\u001b[39m\u001b[38;5;124m\"\u001b[39m)\n\u001b[1;32m    144\u001b[0m     \u001b[38;5;28;01mif\u001b[39;00m \u001b[38;5;129;01mnot\u001b[39;00m path\u001b[38;5;241m.\u001b[39mis_file():\n\u001b[1;32m    145\u001b[0m         \u001b[38;5;28;01mraise\u001b[39;00m \u001b[38;5;167;01mIsADirectoryError\u001b[39;00m(\u001b[38;5;124mf\u001b[39m\u001b[38;5;124m\"\u001b[39m\u001b[38;5;124m``\u001b[39m\u001b[38;5;132;01m{\u001b[39;00mpath\u001b[38;5;132;01m}\u001b[39;00m\u001b[38;5;124m`` is not a regular file\u001b[39m\u001b[38;5;124m\"\u001b[39m)\n",
      "\u001b[0;31mFileNotFoundError\u001b[0m: ``/home/arghya/Downloads/covid_full/GSE158038_RAW/p1/GSM4785605_P3.filtered_feature_bc_matrix.h5`` does not exist"
     ]
    }
   ],
   "source": [
    "adata_1=sc.read_10x_h5('/home/arghya/Downloads/covid_full/GSE158038_RAW/p1/GSM4785605_P3.filtered_feature_bc_matrix.h5')"
   ]
  },
  {
   "cell_type": "code",
   "execution_count": null,
   "id": "b0026c7b",
   "metadata": {},
   "outputs": [],
   "source": [
    "adata_1"
   ]
  },
  {
   "cell_type": "code",
   "execution_count": null,
   "id": "5a2249c7",
   "metadata": {},
   "outputs": [],
   "source": [
    "vdj = ir.io.read_10x_vdj(\n",
    "    \"/home/arghya/Downloads/covid_full/GSE158038_RAW/p1/GSM4785605_P3.filtered_contig_annotations.csv.gz\"\n",
    ")\n"
   ]
  },
  {
   "cell_type": "code",
   "execution_count": null,
   "id": "f0576ca9",
   "metadata": {},
   "outputs": [],
   "source": [
    "vdj"
   ]
  },
  {
   "cell_type": "code",
   "execution_count": null,
   "id": "855b6d7f",
   "metadata": {},
   "outputs": [],
   "source": []
  },
  {
   "cell_type": "code",
   "execution_count": null,
   "id": "5c3c4470",
   "metadata": {},
   "outputs": [],
   "source": [
    "adata_1.var"
   ]
  },
  {
   "cell_type": "code",
   "execution_count": null,
   "id": "94b143ad",
   "metadata": {},
   "outputs": [],
   "source": [
    "ir.pp.merge_with_ir(adata_1, vdj)"
   ]
  },
  {
   "cell_type": "code",
   "execution_count": null,
   "id": "7e4af28a",
   "metadata": {},
   "outputs": [],
   "source": [
    "adata_1"
   ]
  },
  {
   "cell_type": "code",
   "execution_count": null,
   "id": "eeb4f571",
   "metadata": {},
   "outputs": [],
   "source": [
    "adata_1.obsm"
   ]
  },
  {
   "cell_type": "markdown",
   "id": "b5dc30e0",
   "metadata": {},
   "source": [
    "# Loading data for healthy patient 2 --Activated B cells from a healthy donor --GSM4785611 -- p2\n"
   ]
  },
  {
   "cell_type": "code",
   "execution_count": null,
   "id": "2d0707ee",
   "metadata": {},
   "outputs": [],
   "source": [
    "adata_2=sc.read_10x_h5('/home/arghya/Downloads/covid_full/GSE158038_RAW/p2_h/GSM4785611_H2.filtered_feature_bc_matrix.h5')"
   ]
  },
  {
   "cell_type": "code",
   "execution_count": null,
   "id": "dcd1ab3e",
   "metadata": {},
   "outputs": [],
   "source": [
    "vdj_2= ir.io.read_10x_vdj(\n",
    "    \"/home/arghya/Downloads/covid_full/GSE158038_RAW/p2_h/GSM4785611_H2.filtered_contig_annotations.csv.gz\"\n",
    ")"
   ]
  },
  {
   "cell_type": "code",
   "execution_count": null,
   "id": "2e8eaa88",
   "metadata": {},
   "outputs": [],
   "source": [
    "ir.pp.merge_with_ir(adata_2, vdj_2)"
   ]
  },
  {
   "cell_type": "code",
   "execution_count": null,
   "id": "b3ba7254",
   "metadata": {},
   "outputs": [],
   "source": [
    "adata_2"
   ]
  },
  {
   "cell_type": "markdown",
   "id": "34db0023",
   "metadata": {},
   "source": [
    "# Loading data for patient 5 --\tActivated B cells from a COVID-19 ICU patient--GSM4785605 -- p3\n"
   ]
  },
  {
   "cell_type": "code",
   "execution_count": null,
   "id": "c05cfab1",
   "metadata": {},
   "outputs": [],
   "source": [
    "adata_3=sc.read_10x_h5('/home/arghya/Downloads/covid_full/GSE158038_RAW/p3/GSM4785602_P5.filtered_feature_bc_matrix.h5')"
   ]
  },
  {
   "cell_type": "code",
   "execution_count": null,
   "id": "6f1d55f8",
   "metadata": {},
   "outputs": [],
   "source": [
    "vdj_3= ir.io.read_10x_vdj(\n",
    "    \"/home/arghya/Downloads/covid_full/GSE158038_RAW/p3/GSM4785602_P5.filtered_contig_annotations.csv.gz\"\n",
    ")"
   ]
  },
  {
   "cell_type": "code",
   "execution_count": null,
   "id": "8ee04dbc",
   "metadata": {},
   "outputs": [],
   "source": [
    "ir.pp.merge_with_ir(adata_3, vdj_3)"
   ]
  },
  {
   "cell_type": "code",
   "execution_count": null,
   "id": "28d9410d",
   "metadata": {},
   "outputs": [],
   "source": [
    "adata_3"
   ]
  },
  {
   "cell_type": "markdown",
   "id": "00105f55",
   "metadata": {},
   "source": [
    "#  Loading data for patient 7 --\tActivated B cells from a COVID-19 ICU patient--GSM4785607 -- p4\n"
   ]
  },
  {
   "cell_type": "code",
   "execution_count": null,
   "id": "d84dde1d",
   "metadata": {},
   "outputs": [],
   "source": [
    "adata_4=sc.read_10x_h5('/home/arghya/Downloads/covid_full/GSE158038_RAW/p4/GSM4785609_P7.filtered_feature_bc_matrix.h5')"
   ]
  },
  {
   "cell_type": "code",
   "execution_count": null,
   "id": "dff038bb",
   "metadata": {},
   "outputs": [],
   "source": [
    "vdj_4= ir.io.read_10x_vdj(\n",
    "    \"/home/arghya/Downloads/covid_full/GSE158038_RAW/p4/GSM4785609_P7.filtered_contig_annotations.csv.gz\"\n",
    ")"
   ]
  },
  {
   "cell_type": "code",
   "execution_count": null,
   "id": "93e13207",
   "metadata": {},
   "outputs": [],
   "source": [
    "ir.pp.merge_with_ir(adata_4, vdj_4)"
   ]
  },
  {
   "cell_type": "code",
   "execution_count": null,
   "id": "b0bb2e9c",
   "metadata": {},
   "outputs": [],
   "source": [
    "adata_4"
   ]
  },
  {
   "cell_type": "code",
   "execution_count": null,
   "id": "ff5aa297",
   "metadata": {},
   "outputs": [],
   "source": []
  },
  {
   "cell_type": "code",
   "execution_count": null,
   "id": "28462c4a",
   "metadata": {},
   "outputs": [],
   "source": [
    "sc.pp.filter_genes(adata_1, min_cells=10)\n",
    "sc.pp.filter_cells(adata_1, min_genes=100)"
   ]
  },
  {
   "cell_type": "code",
   "execution_count": null,
   "id": "ddef9641",
   "metadata": {},
   "outputs": [],
   "source": [
    "sc.pp.filter_genes(adata_2, min_cells=10)\n",
    "sc.pp.filter_cells(adata_2, min_genes=100)"
   ]
  },
  {
   "cell_type": "code",
   "execution_count": null,
   "id": "37a6daba",
   "metadata": {},
   "outputs": [],
   "source": [
    "sc.pp.filter_genes(adata_3, min_cells=10)\n",
    "sc.pp.filter_cells(adata_3, min_genes=100)"
   ]
  },
  {
   "cell_type": "code",
   "execution_count": null,
   "id": "186e4be6",
   "metadata": {},
   "outputs": [],
   "source": [
    "sc.pp.filter_genes(adata_4, min_cells=10)\n",
    "sc.pp.filter_cells(adata_4, min_genes=100)"
   ]
  },
  {
   "cell_type": "code",
   "execution_count": null,
   "id": "b8ea6bea",
   "metadata": {},
   "outputs": [],
   "source": [
    "adata_1.var_names_make_unique()"
   ]
  },
  {
   "cell_type": "code",
   "execution_count": null,
   "id": "dc26367f",
   "metadata": {},
   "outputs": [],
   "source": [
    "adata_2.var_names_make_unique()"
   ]
  },
  {
   "cell_type": "code",
   "execution_count": null,
   "id": "f4d93cd3",
   "metadata": {},
   "outputs": [],
   "source": [
    "adata_3.var_names_make_unique()"
   ]
  },
  {
   "cell_type": "code",
   "execution_count": null,
   "id": "147ef05e",
   "metadata": {},
   "outputs": [],
   "source": [
    "adata_4.var_names_make_unique()"
   ]
  },
  {
   "cell_type": "code",
   "execution_count": null,
   "id": "347dc9b0",
   "metadata": {},
   "outputs": [],
   "source": [
    "adata_1.var"
   ]
  },
  {
   "cell_type": "code",
   "execution_count": null,
   "id": "b274f392",
   "metadata": {},
   "outputs": [],
   "source": [
    "adata_2.var"
   ]
  },
  {
   "cell_type": "code",
   "execution_count": null,
   "id": "0799964a",
   "metadata": {},
   "outputs": [],
   "source": [
    "adata_3.var"
   ]
  },
  {
   "cell_type": "code",
   "execution_count": null,
   "id": "1f17eeed",
   "metadata": {},
   "outputs": [],
   "source": [
    "adata_4.var"
   ]
  },
  {
   "cell_type": "code",
   "execution_count": null,
   "id": "289e47ca",
   "metadata": {},
   "outputs": [],
   "source": [
    "adata_1.obs"
   ]
  },
  {
   "cell_type": "code",
   "execution_count": null,
   "id": "efed28ee",
   "metadata": {},
   "outputs": [],
   "source": [
    "adata_2.obs"
   ]
  },
  {
   "cell_type": "code",
   "execution_count": null,
   "id": "ce53fe49",
   "metadata": {},
   "outputs": [],
   "source": [
    "adata_3.obs"
   ]
  },
  {
   "cell_type": "code",
   "execution_count": null,
   "id": "5efd69e3",
   "metadata": {},
   "outputs": [],
   "source": [
    "adata_4.obs"
   ]
  },
  {
   "cell_type": "code",
   "execution_count": null,
   "id": "ed1c587b",
   "metadata": {},
   "outputs": [],
   "source": [
    "sc.pp.normalize_per_cell(adata_1, counts_per_cell_after=1000)\n",
    "sc.pp.log1p(adata_1)\n",
    "sc.pp.highly_variable_genes(adata_1, flavor=\"cell_ranger\", n_top_genes=5000)\n",
    "sc.tl.pca(adata_1)\n",
    "sc.pp.neighbors(adata_1)"
   ]
  },
  {
   "cell_type": "code",
   "execution_count": null,
   "id": "9b8d9f98",
   "metadata": {},
   "outputs": [],
   "source": [
    "sc.tl.umap(adata_1)"
   ]
  },
  {
   "cell_type": "code",
   "execution_count": null,
   "id": "37d445b6",
   "metadata": {},
   "outputs": [],
   "source": [
    "from matplotlib.pyplot import rc_context"
   ]
  },
  {
   "cell_type": "code",
   "execution_count": null,
   "id": "27c10c03",
   "metadata": {},
   "outputs": [],
   "source": [
    "with rc_context({'figure.figsize': (4, 4)}):\n",
    "    sc.pl.umap(adata_1, color=['MS4A1','CD19','CD27','CD38','IFIT1','IRF4','PRDM1','CD40','IGJ','n_counts'],s=50, frameon=False, ncols=4, vmax='p99')"
   ]
  },
  {
   "cell_type": "code",
   "execution_count": null,
   "id": "3eebf5dd",
   "metadata": {},
   "outputs": [],
   "source": [
    "sc.pp.normalize_per_cell(adata_2, counts_per_cell_after=1000)\n",
    "sc.pp.log1p(adata_2)\n",
    "sc.pp.highly_variable_genes(adata_2, flavor=\"cell_ranger\", n_top_genes=5000)\n",
    "sc.tl.pca(adata_2)\n",
    "sc.pp.neighbors(adata_2)"
   ]
  },
  {
   "cell_type": "code",
   "execution_count": null,
   "id": "0bd11ddf",
   "metadata": {},
   "outputs": [],
   "source": [
    "sc.tl.umap(adata_2)"
   ]
  },
  {
   "cell_type": "code",
   "execution_count": null,
   "id": "4fcfd9fe",
   "metadata": {},
   "outputs": [],
   "source": [
    "with rc_context({'figure.figsize': (4, 4)}):\n",
    "    sc.pl.umap(adata_2, color=['MS4A1','CD19','CD27','CD38','IFIT1','IRF4','PRDM1','MKI67','n_counts'],s=50, frameon=False, ncols=4, vmax='p99')"
   ]
  },
  {
   "cell_type": "code",
   "execution_count": null,
   "id": "b25c68b3",
   "metadata": {},
   "outputs": [],
   "source": [
    "sc.pl.umap(adata_1, color=\"leiden\")"
   ]
  },
  {
   "cell_type": "code",
   "execution_count": null,
   "id": "e089548a",
   "metadata": {},
   "outputs": [],
   "source": [
    "with rc_context({'figure.figsize': (4, 4)}):\n",
    "    sc.pl.umap(adata_1,color=['MS4A1','CD19','CD27','CD38','IFIT1','IRF4','MKI67','n_counts'],s=50, frameon=False, ncols=4, vmax='p99')"
   ]
  },
  {
   "cell_type": "code",
   "execution_count": null,
   "id": "dc07e788",
   "metadata": {},
   "outputs": [],
   "source": [
    "sc.tl.leiden(adata_1)"
   ]
  },
  {
   "cell_type": "code",
   "execution_count": null,
   "id": "7d20dfb9",
   "metadata": {},
   "outputs": [],
   "source": [
    "\n",
    "sc.tl.rank_genes_groups(adata_1, 'leiden', method='wilcoxon', key_added = \"wilcoxon\")\n",
    "sc.pl.rank_genes_groups(adata_1, n_genes=25, sharey=False, key = \"wilcoxon\")"
   ]
  },
  {
   "cell_type": "code",
   "execution_count": null,
   "id": "12669ca5",
   "metadata": {},
   "outputs": [],
   "source": [
    "sc.tl.dendrogram(adata_1,groupby = 'leiden')"
   ]
  },
  {
   "cell_type": "code",
   "execution_count": null,
   "id": "9f506765",
   "metadata": {},
   "outputs": [],
   "source": [
    "sc.pl.rank_genes_groups_heatmap(adata_1, n_genes=4, key=\"wilcoxon\", groupby=\"leiden\", show_gene_labels=True)"
   ]
  },
  {
   "cell_type": "code",
   "execution_count": null,
   "id": "baf03b34",
   "metadata": {},
   "outputs": [],
   "source": [
    "sc.tl.rank_genes_groups(adata_1, 'leiden', groups=['0'], reference='2', method='wilcoxon')\n",
    "sc.pl.rank_genes_groups(adata_1, groups=['0'], n_genes=20)"
   ]
  },
  {
   "cell_type": "code",
   "execution_count": null,
   "id": "6d32fcc0",
   "metadata": {},
   "outputs": [],
   "source": [
    "sc.tl.rank_genes_groups(adata_1, 'leiden', groups=['5'], reference='8', method='wilcoxon')\n",
    "sc.pl.rank_genes_groups(adata_1, groups=['5'], n_genes=20)"
   ]
  },
  {
   "cell_type": "code",
   "execution_count": null,
   "id": "462e8bdf",
   "metadata": {},
   "outputs": [],
   "source": [
    "sc.tl.rank_genes_groups(adata_1, 'leiden', groups=['5'], reference='11', method='wilcoxon')\n",
    "sc.pl.rank_genes_groups(adata_1, groups=['5'], n_genes=20)"
   ]
  },
  {
   "cell_type": "code",
   "execution_count": null,
   "id": "961c7efc",
   "metadata": {},
   "outputs": [],
   "source": [
    "with rc_context({'figure.figsize': (4, 4)}):\n",
    "    sc.pl.umap(adata_1, color=['RRM2','TUBA1B','TUBB','H2AFZ','HMGN2','PTMA','MCM7','n_counts'],s=50, frameon=False, ncols=4, vmax='p99')"
   ]
  },
  {
   "cell_type": "code",
   "execution_count": null,
   "id": "1f080046",
   "metadata": {},
   "outputs": [],
   "source": []
  },
  {
   "cell_type": "code",
   "execution_count": null,
   "id": "f1413076",
   "metadata": {},
   "outputs": [],
   "source": [
    "sc.pl.rank_genes_groups_dotplot(adata_1, n_genes=2, key=\"wilcoxon\", groupby=\"leiden\")"
   ]
  },
  {
   "cell_type": "code",
   "execution_count": null,
   "id": "b620add3",
   "metadata": {},
   "outputs": [],
   "source": [
    "adata_1.obs[\"type\"] = \"covid\""
   ]
  },
  {
   "cell_type": "code",
   "execution_count": null,
   "id": "fe8b7711",
   "metadata": {},
   "outputs": [],
   "source": [
    "adata_1.obs"
   ]
  },
  {
   "cell_type": "code",
   "execution_count": null,
   "id": "cdd4cdea",
   "metadata": {},
   "outputs": [],
   "source": [
    "adata_1.obs['leiden'].unique()"
   ]
  },
  {
   "cell_type": "code",
   "execution_count": null,
   "id": "3c46abc0",
   "metadata": {},
   "outputs": [],
   "source": [
    "sc.tl.leiden(adata_2)"
   ]
  },
  {
   "cell_type": "code",
   "execution_count": null,
   "id": "ba030d02",
   "metadata": {},
   "outputs": [],
   "source": [
    "adata_2.obs[\"type\"] = \"control\""
   ]
  },
  {
   "cell_type": "code",
   "execution_count": null,
   "id": "7633ce3b",
   "metadata": {},
   "outputs": [],
   "source": [
    "adata_2.obs"
   ]
  },
  {
   "cell_type": "code",
   "execution_count": null,
   "id": "6abcaeba",
   "metadata": {},
   "outputs": [],
   "source": [
    "adata_covid_control = adata_1.concatenate(adata_2,index_unique=None)"
   ]
  },
  {
   "cell_type": "code",
   "execution_count": null,
   "id": "c6e213fa",
   "metadata": {},
   "outputs": [],
   "source": [
    "adata_covid_control.obs_names_make_unique()"
   ]
  },
  {
   "cell_type": "code",
   "execution_count": null,
   "id": "563f7834",
   "metadata": {},
   "outputs": [],
   "source": [
    "adata_covid_control "
   ]
  },
  {
   "cell_type": "code",
   "execution_count": null,
   "id": "1f97a8e9",
   "metadata": {},
   "outputs": [],
   "source": [
    "sc.tl.rank_genes_groups(adata_covid_control , 'leiden', method='wilcoxon', key_added = \"wilcoxon\")\n",
    "sc.pl.rank_genes_groups(adata_covid_control , n_genes=25, sharey=False, key=\"wilcoxon\")"
   ]
  },
  {
   "cell_type": "code",
   "execution_count": null,
   "id": "083ebfeb",
   "metadata": {},
   "outputs": [],
   "source": [
    "\n",
    "adata_covid_control.obs['type'].value_counts()"
   ]
  },
  {
   "cell_type": "code",
   "execution_count": null,
   "id": "fea47e82",
   "metadata": {},
   "outputs": [],
   "source": [
    "cl1 = adata_covid_control[adata_covid_control.obs['leiden'] == '4',:]\n",
    "cl1.obs['type'].value_counts()"
   ]
  },
  {
   "cell_type": "code",
   "execution_count": null,
   "id": "a7b2396a",
   "metadata": {},
   "outputs": [],
   "source": [
    "sc.tl.rank_genes_groups(cl1, 'type', method='wilcoxon', key_added = \"wilcoxon\")\n",
    "sc.pl.rank_genes_groups(cl1, n_genes=25, sharey=False, key=\"wilcoxon\")"
   ]
  },
  {
   "cell_type": "code",
   "execution_count": null,
   "id": "c03ccef9",
   "metadata": {},
   "outputs": [],
   "source": [
    "sc.pl.rank_genes_groups_violin(cl1, n_genes=10, key=\"wilcoxon\")"
   ]
  },
  {
   "cell_type": "code",
   "execution_count": null,
   "id": "70703a65",
   "metadata": {},
   "outputs": [],
   "source": [
    "adata_covid_control.var"
   ]
  },
  {
   "cell_type": "code",
   "execution_count": null,
   "id": "f50e35f3",
   "metadata": {},
   "outputs": [],
   "source": [
    "adata_covid_control[:, adata_covid_control.var_names=='CD74'].var"
   ]
  },
  {
   "cell_type": "code",
   "execution_count": null,
   "id": "6f02ab72",
   "metadata": {},
   "outputs": [],
   "source": [
    "#import seaborn as sns\n",
    "\n",
    "#genes1 = sc.get.rank_genes_groups_df(adata_covid_control, group=None, key='wilcoxon')['names'][:5]\n",
    "#genes2 = sc.get.rank_genes_groups_df(adata_covid_control, group=None, key='wilcoxon')['names'][:5]\n",
    "#genes = genes1.tolist() +  genes2.tolist() \n",
    "#df = sc.get.obs_df(adata_1, genes + ['leiden','type'], use_raw=False)\n",
    "#df2 = df.melt(id_vars=[\"leiden\",'type'], value_vars=genes)"
   ]
  },
  {
   "cell_type": "code",
   "execution_count": null,
   "id": "3c5cf652",
   "metadata": {},
   "outputs": [],
   "source": [
    "#sns.catplot(x = \"leiden\", y = \"value\", hue = \"type\", kind = 'violin', \n",
    "               #col = \"variable\", data = df2, col_wrap=4, inner=None)"
   ]
  },
  {
   "cell_type": "code",
   "execution_count": null,
   "id": "be473de1",
   "metadata": {},
   "outputs": [],
   "source": [
    "!pip install pybiomart"
   ]
  },
  {
   "cell_type": "code",
   "execution_count": null,
   "id": "913c4f6e",
   "metadata": {},
   "outputs": [],
   "source": [
    "from pybiomart import Server\n"
   ]
  },
  {
   "cell_type": "code",
   "execution_count": null,
   "id": "3a5dc1f1",
   "metadata": {},
   "outputs": [],
   "source": [
    "annot = sc.queries.biomart_annotations(\n",
    "        \"hsapiens\",\n",
    "        [\"ensembl_gene_id\", \"external_gene_name\", \"start_position\", \"end_position\", \"chromosome_name\"],\n",
    "    ).set_index(\"external_gene_name\")\n",
    "\n",
    "chrY_genes = adata_covid_control.var_names.intersection(annot.index[annot.chromosome_name == \"Y\"])\n",
    "chrX_genes = adata_covid_control.var_names.intersection(annot.index[annot.chromosome_name == \"X\"])"
   ]
  },
  {
   "cell_type": "code",
   "execution_count": null,
   "id": "dd68bd3b",
   "metadata": {},
   "outputs": [],
   "source": [
    "sex_genes = chrY_genes.union(chrX_genes)\n",
    "print(len(sex_genes))\n",
    "all_genes = cl1.var.index.tolist()\n",
    "print(len(all_genes))\n",
    "\n",
    "keep_genes = [x for x in all_genes if x not in sex_genes]\n",
    "print(len(keep_genes))\n",
    "\n",
    "cl1 = cl1[:,keep_genes]"
   ]
  },
  {
   "cell_type": "code",
   "execution_count": null,
   "id": "9c201b31",
   "metadata": {},
   "outputs": [],
   "source": [
    "sc.tl.rank_genes_groups(cl1, 'type', method='wilcoxon', key_added = \"wilcoxon\")\n",
    "sc.pl.rank_genes_groups(cl1, n_genes=25, sharey=False, key=\"wilcoxon\")"
   ]
  },
  {
   "cell_type": "code",
   "execution_count": null,
   "id": "335c0b92",
   "metadata": {},
   "outputs": [],
   "source": [
    "cl1.obs['type'].value_counts()"
   ]
  },
  {
   "cell_type": "code",
   "execution_count": null,
   "id": "bcd0bb2d",
   "metadata": {},
   "outputs": [],
   "source": [
    "target_cells = 200\n",
    "\n",
    "tmp = [cl1[cl1.obs['type'] == s] for s in cl1.obs['type'].cat.categories]\n",
    "\n",
    "for dat in tmp:\n",
    "    if dat.n_obs > target_cells:\n",
    "         sc.pp.subsample(dat, n_obs=target_cells)\n",
    "\n",
    "cl1_sub = tmp[0].concatenate(*tmp[1:])\n",
    "\n",
    "cl1_sub.obs['type'].value_counts()"
   ]
  },
  {
   "cell_type": "code",
   "execution_count": null,
   "id": "03342838",
   "metadata": {},
   "outputs": [],
   "source": [
    "sc.tl.rank_genes_groups(cl1_sub, 'type', method='wilcoxon', key_added = \"wilcoxon\")\n",
    "sc.pl.rank_genes_groups(cl1_sub, n_genes=25, sharey=False, key=\"wilcoxon\")"
   ]
  },
  {
   "cell_type": "code",
   "execution_count": null,
   "id": "a34af342",
   "metadata": {},
   "outputs": [],
   "source": [
    "!pip install gseapy"
   ]
  },
  {
   "cell_type": "code",
   "execution_count": null,
   "id": "d571dda9",
   "metadata": {},
   "outputs": [],
   "source": [
    "import gseapy"
   ]
  },
  {
   "cell_type": "code",
   "execution_count": null,
   "id": "2815694a",
   "metadata": {},
   "outputs": [],
   "source": [
    "\n",
    "gene_set_names = gseapy.get_library_name(organism='Human')\n",
    "print(gene_set_names)"
   ]
  },
  {
   "cell_type": "code",
   "execution_count": null,
   "id": "cf275589",
   "metadata": {},
   "outputs": [],
   "source": [
    "#?gseapy.enrichr\n",
    "glist = sc.get.rank_genes_groups_df(cl1_sub, group=None, \n",
    "                                    key='wilcoxon', log2fc_min=0.25, \n",
    "                                    pval_cutoff=0.05)['names'].squeeze().str.strip().tolist()\n",
    "print(len(glist))"
   ]
  },
  {
   "cell_type": "code",
   "execution_count": null,
   "id": "c630568e",
   "metadata": {},
   "outputs": [],
   "source": [
    "enr_res = gseapy.enrichr(gene_list=glist,\n",
    "                     organism='Human',\n",
    "                     gene_sets='GO_Biological_Process_2018',\n",
    "                     cutoff = 0.5)"
   ]
  },
  {
   "cell_type": "code",
   "execution_count": null,
   "id": "ed7f3747",
   "metadata": {},
   "outputs": [],
   "source": [
    "enr_res.results.head()"
   ]
  },
  {
   "cell_type": "code",
   "execution_count": null,
   "id": "028e1016",
   "metadata": {},
   "outputs": [],
   "source": [
    "gseapy.barplot(enr_res.res2d,title='GO_Biological_Process_2018')"
   ]
  },
  {
   "cell_type": "markdown",
   "id": "0dfacded",
   "metadata": {},
   "source": [
    "# GSEA"
   ]
  },
  {
   "cell_type": "code",
   "execution_count": null,
   "id": "6dc58353",
   "metadata": {},
   "outputs": [],
   "source": [
    "gene_rank = sc.get.rank_genes_groups_df(cl1_sub, group=None, key='wilcoxon')[['names','logfoldchanges']]\n",
    "gene_rank.sort_values(by=['logfoldchanges'], inplace=True, ascending=False)"
   ]
  },
  {
   "cell_type": "code",
   "execution_count": null,
   "id": "cdcf3d52",
   "metadata": {},
   "outputs": [],
   "source": [
    "# calculate_qc_metrics will calculate number of cells per gene\n",
    "sc.pp.calculate_qc_metrics(cl1, percent_top=None, log1p=False, inplace=True)\n",
    "\n",
    "# filter for genes expressed in at least 30 cells.\n",
    "gene_rank = gene_rank[gene_rank['names'].isin(cl1.var_names[cl1.var.n_cells_by_counts>30])]\n",
    "gene_rank"
   ]
  },
  {
   "cell_type": "code",
   "execution_count": null,
   "id": "b4f731f4",
   "metadata": {},
   "outputs": [],
   "source": [
    "res = gseapy.prerank(rnk=gene_rank, gene_sets='KEGG_2021_Human')"
   ]
  },
  {
   "cell_type": "code",
   "execution_count": null,
   "id": "11cd2a4d",
   "metadata": {},
   "outputs": [],
   "source": [
    "terms = res.res2d.Term\n",
    "terms[:10]"
   ]
  },
  {
   "cell_type": "code",
   "execution_count": null,
   "id": "d620134f",
   "metadata": {},
   "outputs": [],
   "source": [
    "gseapy.gseaplot(rank_metric=res.ranking, term=terms[0], **res.results[terms[0]])"
   ]
  },
  {
   "cell_type": "code",
   "execution_count": null,
   "id": "4832ce39",
   "metadata": {},
   "outputs": [],
   "source": [
    "sc.pp.neighbors(adata_covid_control, n_neighbors=15, use_rep='X_umap')\n",
    "sc.tl.leiden(adata, resolution=0.5)"
   ]
  },
  {
   "cell_type": "code",
   "execution_count": null,
   "id": "9a57a261",
   "metadata": {},
   "outputs": [],
   "source": []
  }
 ],
 "metadata": {
  "kernelspec": {
   "display_name": "Python 3 (ipykernel)",
   "language": "python",
   "name": "python3"
  },
  "language_info": {
   "codemirror_mode": {
    "name": "ipython",
    "version": 3
   },
   "file_extension": ".py",
   "mimetype": "text/x-python",
   "name": "python",
   "nbconvert_exporter": "python",
   "pygments_lexer": "ipython3",
   "version": "3.10.8"
  }
 },
 "nbformat": 4,
 "nbformat_minor": 5
}
