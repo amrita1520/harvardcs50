{
 "cells": [
  {
   "cell_type": "code",
   "execution_count": 1,
   "id": "99cab0c1",
   "metadata": {},
   "outputs": [],
   "source": [
    "import scanpy as sc"
   ]
  },
  {
   "cell_type": "code",
   "execution_count": 2,
   "id": "9ad796b2",
   "metadata": {},
   "outputs": [],
   "source": [
    "import scirpy as ir"
   ]
  },
  {
   "cell_type": "code",
   "execution_count": 3,
   "id": "172be41b",
   "metadata": {},
   "outputs": [],
   "source": [
    "def load (adata_path,vdj_path):\n",
    "    adata=sc.read_10x_h5(adata_path)\n",
    "    vdj = ir.io.read_10x_vdj(vdj_path)\n",
    "    ir.pp.merge_with_ir(adata, vdj)\n",
    "    adata.var_names_make_unique()\n",
    "    adata.obs_names_make_unique()\n",
    "    return adata\n"
   ]
  },
  {
   "cell_type": "code",
   "execution_count": 4,
   "id": "5847b02f",
   "metadata": {},
   "outputs": [
    {
     "name": "stderr",
     "output_type": "stream",
     "text": [
      "/home/arghya/mambaforge/lib/python3.10/site-packages/anndata/_core/anndata.py:1830: UserWarning: Variable names are not unique. To make them unique, call `.var_names_make_unique`.\n",
      "  utils.warn_names_duplicates(\"var\")\n"
     ]
    },
    {
     "name": "stdout",
     "output_type": "stream",
     "text": [
      "WARNING: Non-standard locus name ignored: Multi \n"
     ]
    },
    {
     "name": "stderr",
     "output_type": "stream",
     "text": [
      "/home/arghya/mambaforge/lib/python3.10/site-packages/scirpy/io/_convert_anndata.py:81: FutureWarning: X.dtype being converted to np.float32 from float64. In the next version of anndata (0.9) conversion will not be automatic. Pass dtype explicitly to avoid this warning. Pass `AnnData(X, dtype=X.dtype, ...)` to get the future behavour.\n",
      "  adata = AnnData(obs=ir_df, X=np.empty([ir_df.shape[0], 0]))\n"
     ]
    }
   ],
   "source": [
    "adata_1=load('/home/arghya/Downloads/covid_full/GSE158038_RAW/p_1/GSM4785600_P6.filtered_feature_bc_matrix.h5',\n",
    "              '/home/arghya/Downloads/covid_full/GSE158038_RAW/p_1/GSM4785600_P6.filtered_contig_annotations.csv.gz')"
   ]
  },
  {
   "cell_type": "code",
   "execution_count": 5,
   "id": "f91a758c",
   "metadata": {},
   "outputs": [
    {
     "name": "stderr",
     "output_type": "stream",
     "text": [
      "/home/arghya/mambaforge/lib/python3.10/site-packages/anndata/_core/anndata.py:1830: UserWarning: Variable names are not unique. To make them unique, call `.var_names_make_unique`.\n",
      "  utils.warn_names_duplicates(\"var\")\n"
     ]
    },
    {
     "name": "stdout",
     "output_type": "stream",
     "text": [
      "WARNING: Non-standard locus name ignored: Multi \n"
     ]
    },
    {
     "name": "stderr",
     "output_type": "stream",
     "text": [
      "/home/arghya/mambaforge/lib/python3.10/site-packages/scirpy/io/_convert_anndata.py:81: FutureWarning: X.dtype being converted to np.float32 from float64. In the next version of anndata (0.9) conversion will not be automatic. Pass dtype explicitly to avoid this warning. Pass `AnnData(X, dtype=X.dtype, ...)` to get the future behavour.\n",
      "  adata = AnnData(obs=ir_df, X=np.empty([ir_df.shape[0], 0]))\n"
     ]
    }
   ],
   "source": [
    "adata_2=load('/home/arghya/Downloads/covid_full/GSE158038_RAW/p_2/GSM4785602_P5.filtered_feature_bc_matrix.h5',\n",
    "              '/home/arghya/Downloads/covid_full/GSE158038_RAW/p_2/GSM4785602_P5.filtered_contig_annotations.csv.gz')"
   ]
  },
  {
   "cell_type": "code",
   "execution_count": 6,
   "id": "332c259b",
   "metadata": {},
   "outputs": [
    {
     "name": "stderr",
     "output_type": "stream",
     "text": [
      "/home/arghya/mambaforge/lib/python3.10/site-packages/anndata/_core/anndata.py:1830: UserWarning: Variable names are not unique. To make them unique, call `.var_names_make_unique`.\n",
      "  utils.warn_names_duplicates(\"var\")\n"
     ]
    },
    {
     "name": "stdout",
     "output_type": "stream",
     "text": [
      "WARNING: Non-standard locus name ignored: Multi \n"
     ]
    },
    {
     "name": "stderr",
     "output_type": "stream",
     "text": [
      "/home/arghya/mambaforge/lib/python3.10/site-packages/scirpy/io/_convert_anndata.py:81: FutureWarning: X.dtype being converted to np.float32 from float64. In the next version of anndata (0.9) conversion will not be automatic. Pass dtype explicitly to avoid this warning. Pass `AnnData(X, dtype=X.dtype, ...)` to get the future behavour.\n",
      "  adata = AnnData(obs=ir_df, X=np.empty([ir_df.shape[0], 0]))\n"
     ]
    }
   ],
   "source": [
    "adata_2b=load('/home/arghya/Downloads/covid_full/GSE158038_RAW/p_2b/GSM4785602_P5.filtered_feature_bc_matrix.h5',\n",
    "              '/home/arghya/Downloads/covid_full/GSE158038_RAW/p_2b/GSM4785602_P5.filtered_contig_annotations.csv.gz')"
   ]
  },
  {
   "cell_type": "code",
   "execution_count": 7,
   "id": "c01db4ee",
   "metadata": {},
   "outputs": [
    {
     "data": {
      "text/plain": [
       "AnnData object with n_obs × n_vars = 2862 × 32738\n",
       "    obs: 'is_cell', 'high_confidence', 'multi_chain', 'extra_chains', 'IR_VJ_1_c_call', 'IR_VJ_2_c_call', 'IR_VDJ_1_c_call', 'IR_VDJ_2_c_call', 'IR_VJ_1_consensus_count', 'IR_VJ_2_consensus_count', 'IR_VDJ_1_consensus_count', 'IR_VDJ_2_consensus_count', 'IR_VJ_1_d_call', 'IR_VJ_2_d_call', 'IR_VDJ_1_d_call', 'IR_VDJ_2_d_call', 'IR_VJ_1_duplicate_count', 'IR_VJ_2_duplicate_count', 'IR_VDJ_1_duplicate_count', 'IR_VDJ_2_duplicate_count', 'IR_VJ_1_j_call', 'IR_VJ_2_j_call', 'IR_VDJ_1_j_call', 'IR_VDJ_2_j_call', 'IR_VJ_1_junction', 'IR_VJ_2_junction', 'IR_VDJ_1_junction', 'IR_VDJ_2_junction', 'IR_VJ_1_junction_aa', 'IR_VJ_2_junction_aa', 'IR_VDJ_1_junction_aa', 'IR_VDJ_2_junction_aa', 'IR_VJ_1_locus', 'IR_VJ_2_locus', 'IR_VDJ_1_locus', 'IR_VDJ_2_locus', 'IR_VJ_1_productive', 'IR_VJ_2_productive', 'IR_VDJ_1_productive', 'IR_VDJ_2_productive', 'IR_VJ_1_v_call', 'IR_VJ_2_v_call', 'IR_VDJ_1_v_call', 'IR_VDJ_2_v_call', 'has_ir'\n",
       "    var: 'gene_ids', 'feature_types', 'genome'"
      ]
     },
     "execution_count": 7,
     "metadata": {},
     "output_type": "execute_result"
    }
   ],
   "source": [
    "adata_2"
   ]
  },
  {
   "cell_type": "code",
   "execution_count": 8,
   "id": "bab62411",
   "metadata": {},
   "outputs": [
    {
     "name": "stdout",
     "output_type": "stream",
     "text": [
      "WARNING: Non-standard locus name ignored: Multi \n"
     ]
    },
    {
     "name": "stderr",
     "output_type": "stream",
     "text": [
      "/home/arghya/mambaforge/lib/python3.10/site-packages/anndata/_core/anndata.py:1830: UserWarning: Variable names are not unique. To make them unique, call `.var_names_make_unique`.\n",
      "  utils.warn_names_duplicates(\"var\")\n",
      "/home/arghya/mambaforge/lib/python3.10/site-packages/scirpy/io/_convert_anndata.py:81: FutureWarning: X.dtype being converted to np.float32 from float64. In the next version of anndata (0.9) conversion will not be automatic. Pass dtype explicitly to avoid this warning. Pass `AnnData(X, dtype=X.dtype, ...)` to get the future behavour.\n",
      "  adata = AnnData(obs=ir_df, X=np.empty([ir_df.shape[0], 0]))\n"
     ]
    }
   ],
   "source": [
    "adata_3=load('/home/arghya/Downloads/covid_full/GSE158038_RAW/p_3/GSM4785634_P36_d2_GEX.filtered_feature_bc_matrix.h5',\n",
    "              '/home/arghya/Downloads/covid_full/GSE158038_RAW/p_3/GSM4785634_P36_d2_GEX.filtered_contig_annotations.csv.gz')"
   ]
  },
  {
   "cell_type": "code",
   "execution_count": 9,
   "id": "912e2726",
   "metadata": {},
   "outputs": [
    {
     "name": "stderr",
     "output_type": "stream",
     "text": [
      "/home/arghya/mambaforge/lib/python3.10/site-packages/anndata/_core/anndata.py:1830: UserWarning: Variable names are not unique. To make them unique, call `.var_names_make_unique`.\n",
      "  utils.warn_names_duplicates(\"var\")\n"
     ]
    },
    {
     "name": "stdout",
     "output_type": "stream",
     "text": [
      "WARNING: Non-standard locus name ignored: Multi \n"
     ]
    },
    {
     "name": "stderr",
     "output_type": "stream",
     "text": [
      "/home/arghya/mambaforge/lib/python3.10/site-packages/scirpy/io/_convert_anndata.py:81: FutureWarning: X.dtype being converted to np.float32 from float64. In the next version of anndata (0.9) conversion will not be automatic. Pass dtype explicitly to avoid this warning. Pass `AnnData(X, dtype=X.dtype, ...)` to get the future behavour.\n",
      "  adata = AnnData(obs=ir_df, X=np.empty([ir_df.shape[0], 0]))\n"
     ]
    }
   ],
   "source": [
    "adata_3b=load('/home/arghya/Downloads/covid_full/GSE158038_RAW/p_3b/GSM4785603_P9.filtered_feature_bc_matrix.h5',\n",
    "              '/home/arghya/Downloads/covid_full/GSE158038_RAW/p_3b/GSM4785603_P9.filtered_contig_annotations.csv.gz')"
   ]
  },
  {
   "cell_type": "code",
   "execution_count": 10,
   "id": "d8b59789",
   "metadata": {},
   "outputs": [
    {
     "name": "stderr",
     "output_type": "stream",
     "text": [
      "/home/arghya/mambaforge/lib/python3.10/site-packages/anndata/_core/anndata.py:1830: UserWarning: Variable names are not unique. To make them unique, call `.var_names_make_unique`.\n",
      "  utils.warn_names_duplicates(\"var\")\n"
     ]
    },
    {
     "name": "stdout",
     "output_type": "stream",
     "text": [
      "WARNING: Non-standard locus name ignored: Multi \n"
     ]
    },
    {
     "name": "stderr",
     "output_type": "stream",
     "text": [
      "/home/arghya/mambaforge/lib/python3.10/site-packages/scirpy/io/_convert_anndata.py:81: FutureWarning: X.dtype being converted to np.float32 from float64. In the next version of anndata (0.9) conversion will not be automatic. Pass dtype explicitly to avoid this warning. Pass `AnnData(X, dtype=X.dtype, ...)` to get the future behavour.\n",
      "  adata = AnnData(obs=ir_df, X=np.empty([ir_df.shape[0], 0]))\n"
     ]
    }
   ],
   "source": [
    "adata_4=load('/home/arghya/Downloads/covid_full/GSE158038_RAW/p_4/GSM4785604_P4.filtered_feature_bc_matrix.h5',\n",
    "              '/home/arghya/Downloads/covid_full/GSE158038_RAW/p_4/GSM4785604_P4.filtered_contig_annotations.csv.gz')"
   ]
  },
  {
   "cell_type": "code",
   "execution_count": 11,
   "id": "944c9518",
   "metadata": {},
   "outputs": [
    {
     "name": "stderr",
     "output_type": "stream",
     "text": [
      "/home/arghya/mambaforge/lib/python3.10/site-packages/anndata/_core/anndata.py:1830: UserWarning: Variable names are not unique. To make them unique, call `.var_names_make_unique`.\n",
      "  utils.warn_names_duplicates(\"var\")\n"
     ]
    },
    {
     "name": "stdout",
     "output_type": "stream",
     "text": [
      "WARNING: Non-standard locus name ignored: Multi \n"
     ]
    },
    {
     "name": "stderr",
     "output_type": "stream",
     "text": [
      "/home/arghya/mambaforge/lib/python3.10/site-packages/scirpy/io/_convert_anndata.py:81: FutureWarning: X.dtype being converted to np.float32 from float64. In the next version of anndata (0.9) conversion will not be automatic. Pass dtype explicitly to avoid this warning. Pass `AnnData(X, dtype=X.dtype, ...)` to get the future behavour.\n",
      "  adata = AnnData(obs=ir_df, X=np.empty([ir_df.shape[0], 0]))\n"
     ]
    }
   ],
   "source": [
    "adata_5=load('/home/arghya/Downloads/covid_full/GSE158038_RAW/p_5/GSM4785605_P3.filtered_feature_bc_matrix.h5',\n",
    "              '/home/arghya/Downloads/covid_full/GSE158038_RAW/p_5/GSM4785605_P3.filtered_contig_annotations.csv.gz')"
   ]
  },
  {
   "cell_type": "code",
   "execution_count": 12,
   "id": "fa9b19b6",
   "metadata": {},
   "outputs": [
    {
     "name": "stderr",
     "output_type": "stream",
     "text": [
      "/home/arghya/mambaforge/lib/python3.10/site-packages/anndata/_core/anndata.py:1830: UserWarning: Variable names are not unique. To make them unique, call `.var_names_make_unique`.\n",
      "  utils.warn_names_duplicates(\"var\")\n"
     ]
    },
    {
     "name": "stdout",
     "output_type": "stream",
     "text": [
      "WARNING: Non-standard locus name ignored: Multi \n"
     ]
    },
    {
     "name": "stderr",
     "output_type": "stream",
     "text": [
      "/home/arghya/mambaforge/lib/python3.10/site-packages/scirpy/io/_convert_anndata.py:81: FutureWarning: X.dtype being converted to np.float32 from float64. In the next version of anndata (0.9) conversion will not be automatic. Pass dtype explicitly to avoid this warning. Pass `AnnData(X, dtype=X.dtype, ...)` to get the future behavour.\n",
      "  adata = AnnData(obs=ir_df, X=np.empty([ir_df.shape[0], 0]))\n"
     ]
    }
   ],
   "source": [
    "adata_6=load('/home/arghya/Downloads/covid_full/GSE158038_RAW/p_6/GSM4785606_P1.filtered_feature_bc_matrix.h5',\n",
    "              '/home/arghya/Downloads/covid_full/GSE158038_RAW/p_6/GSM4785606_P1.filtered_contig_annotations.csv.gz')"
   ]
  },
  {
   "cell_type": "code",
   "execution_count": 13,
   "id": "9864f52f",
   "metadata": {},
   "outputs": [
    {
     "name": "stderr",
     "output_type": "stream",
     "text": [
      "/home/arghya/mambaforge/lib/python3.10/site-packages/anndata/_core/anndata.py:1830: UserWarning: Variable names are not unique. To make them unique, call `.var_names_make_unique`.\n",
      "  utils.warn_names_duplicates(\"var\")\n"
     ]
    },
    {
     "name": "stdout",
     "output_type": "stream",
     "text": [
      "WARNING: Non-standard locus name ignored: Multi \n"
     ]
    },
    {
     "name": "stderr",
     "output_type": "stream",
     "text": [
      "/home/arghya/mambaforge/lib/python3.10/site-packages/scirpy/io/_convert_anndata.py:81: FutureWarning: X.dtype being converted to np.float32 from float64. In the next version of anndata (0.9) conversion will not be automatic. Pass dtype explicitly to avoid this warning. Pass `AnnData(X, dtype=X.dtype, ...)` to get the future behavour.\n",
      "  adata = AnnData(obs=ir_df, X=np.empty([ir_df.shape[0], 0]))\n"
     ]
    }
   ],
   "source": [
    "adata_7=load('/home/arghya/Downloads/covid_full/GSE158038_RAW/p_7/GSM4785607_P2.filtered_feature_bc_matrix.h5',\n",
    "              '/home/arghya/Downloads/covid_full/GSE158038_RAW/p_7/GSM4785607_P2.filtered_contig_annotations.csv.gz')"
   ]
  },
  {
   "cell_type": "code",
   "execution_count": null,
   "id": "0c792bf5",
   "metadata": {},
   "outputs": [
    {
     "name": "stderr",
     "output_type": "stream",
     "text": [
      "/home/arghya/mambaforge/lib/python3.10/site-packages/anndata/_core/anndata.py:1830: UserWarning: Variable names are not unique. To make them unique, call `.var_names_make_unique`.\n",
      "  utils.warn_names_duplicates(\"var\")\n"
     ]
    },
    {
     "name": "stdout",
     "output_type": "stream",
     "text": [
      "WARNING: Non-standard locus name ignored: Multi \n"
     ]
    }
   ],
   "source": [
    "adata_8=load('/home/arghya/Downloads/covid_full/GSE158038_RAW/p_8/GSM4785608_P8.filtered_feature_bc_matrix.h5',\n",
    "              '/home/arghya/Downloads/covid_full/GSE158038_RAW/p_8/GSM4785608_P8.filtered_contig_annotations.csv.gz')"
   ]
  },
  {
   "cell_type": "code",
   "execution_count": null,
   "id": "fb6fda28",
   "metadata": {},
   "outputs": [],
   "source": [
    "adata_8b=load('/home/arghya/Downloads/covid_full/GSE158038_RAW/p_8b/GSM4785635_P29_d2_GEX.filtered_feature_bc_matrix.h5',\n",
    "              '/home/arghya/Downloads/covid_full/GSE158038_RAW/p_8b/GSM4785635_P29_d2_GEX.filtered_contig_annotations.csv.gz')"
   ]
  },
  {
   "cell_type": "code",
   "execution_count": null,
   "id": "e082105d",
   "metadata": {},
   "outputs": [],
   "source": [
    "adata_9=load('/home/arghya/Downloads/covid_full/GSE158038_RAW/p_9/GSM4785609_P7.filtered_feature_bc_matrix.h5',\n",
    "              '/home/arghya/Downloads/covid_full/GSE158038_RAW/p_9/GSM4785609_P7.filtered_contig_annotations.csv.gz')"
   ]
  },
  {
   "cell_type": "code",
   "execution_count": null,
   "id": "26157bdb",
   "metadata": {},
   "outputs": [],
   "source": [
    "adata_10=load('/home/arghya/Downloads/covid_full/GSE158038_RAW/p_10/GSM4785636_P28_d4_GEX.filtered_feature_bc_matrix.h5',\n",
    "              '/home/arghya/Downloads/covid_full/GSE158038_RAW/p_10/GSM4785636_P28_d4_GEX.filtered_contig_annotations.csv.gz')"
   ]
  },
  {
   "cell_type": "code",
   "execution_count": null,
   "id": "78066bb8",
   "metadata": {},
   "outputs": [],
   "source": [
    "adata_11=load('/home/arghya/Downloads/covid_full/GSE158038_RAW/p_11/GSM4785637_P41_d6_GEX.filtered_feature_bc_matrix.h5',\n",
    "              '/home/arghya/Downloads/covid_full/GSE158038_RAW/p_11/GSM4785637_P41_d6_GEX.filtered_contig_annotations.csv.gz')"
   ]
  },
  {
   "cell_type": "code",
   "execution_count": null,
   "id": "b5f7b20a",
   "metadata": {},
   "outputs": [],
   "source": [
    "adata_h1=load('/home/arghya/Downloads/covid_full/GSE158038_RAW/p_h1/GSM4785610_H1.filtered_feature_bc_matrix.h5',\n",
    "              '/home/arghya/Downloads/covid_full/GSE158038_RAW/p_h1/GSM4785610_H1.filtered_contig_annotations.csv.gz')"
   ]
  },
  {
   "cell_type": "code",
   "execution_count": null,
   "id": "09671e4b",
   "metadata": {},
   "outputs": [],
   "source": [
    "adata_h2=load('/home/arghya/Downloads/covid_full/GSE158038_RAW/p_h2/GSM4785611_H2.filtered_feature_bc_matrix.h5',\n",
    "              '/home/arghya/Downloads/covid_full/GSE158038_RAW/p_h2/GSM4785611_H2.filtered_contig_annotations.csv.gz')"
   ]
  },
  {
   "cell_type": "code",
   "execution_count": null,
   "id": "703323bc",
   "metadata": {},
   "outputs": [],
   "source": [
    "adata_h3=load('/home/arghya/Downloads/covid_full/GSE158038_RAW/p_h3/GSM4785612_H3.filtered_feature_bc_matrix.h5',\n",
    "              '/home/arghya/Downloads/covid_full/GSE158038_RAW/p_h3/GSM4785612_H3.filtered_contig_annotations.csv.gz')"
   ]
  },
  {
   "cell_type": "code",
   "execution_count": null,
   "id": "1136034e",
   "metadata": {},
   "outputs": [],
   "source": [
    "adata_covid = adata_1.concatenate(adata_2,index_unique=None).concatenate(adata_2b,index_unique=None).concatenate(adata_3,index_unique=None).concatenate(adata_3b,index_unique=None).concatenate(adata_4,index_unique=None).concatenate(adata_5,index_unique=None).concatenate(adata_6,index_unique=None).concatenate(adata_7,index_unique=None).concatenate(adata_8,index_unique=None).concatenate(adata_8b,index_unique=None).concatenate(adata_9,index_unique=None).concatenate(adata_10,index_unique=None).concatenate(adata_11,index_unique=None)"
   ]
  },
  {
   "cell_type": "code",
   "execution_count": null,
   "id": "b11b821f",
   "metadata": {},
   "outputs": [],
   "source": [
    "adata_covid.write('/home/arghya/Downloads/covid_full/adata_covid_raw.h5ad')"
   ]
  },
  {
   "cell_type": "code",
   "execution_count": null,
   "id": "5f177428",
   "metadata": {},
   "outputs": [],
   "source": [
    "adata_control = adata_h1.concatenate(adata_h2,index_unique=None).concatenate(adata_h3,index_unique=None)"
   ]
  },
  {
   "cell_type": "code",
   "execution_count": null,
   "id": "6c0f4bf6",
   "metadata": {},
   "outputs": [],
   "source": [
    "adata_control.write('/home/arghya/Downloads/covid_full/adata_control_raw.h5ad')"
   ]
  },
  {
   "cell_type": "markdown",
   "id": "982ecf95",
   "metadata": {},
   "source": [
    "# covid - filtering, normalization(log),qc -calculate\n",
    "# and umap, leiden mapping"
   ]
  },
  {
   "cell_type": "code",
   "execution_count": null,
   "id": "1f63ece0",
   "metadata": {},
   "outputs": [],
   "source": [
    "sc.pp.filter_genes(adata_covid, min_cells=10) #\n",
    "sc.pp.filter_cells(adata_covid, min_genes=100)"
   ]
  },
  {
   "cell_type": "code",
   "execution_count": null,
   "id": "97fbc082",
   "metadata": {},
   "outputs": [],
   "source": [
    "sc.pp.normalize_per_cell(adata_covid, counts_per_cell_after=1000)\n",
    "sc.pp.log1p(adata_covid)\n",
    "sc.pp.highly_variable_genes(adata_covid, flavor=\"cell_ranger\", n_top_genes=5000)\n",
    "sc.tl.pca(adata_covid)\n",
    "sc.pp.neighbors(adata_covid)"
   ]
  },
  {
   "cell_type": "code",
   "execution_count": null,
   "id": "3a231f71",
   "metadata": {},
   "outputs": [],
   "source": [
    "ir.tl.chain_qc(adata_covid)"
   ]
  },
  {
   "cell_type": "code",
   "execution_count": null,
   "id": "c0020ea8",
   "metadata": {},
   "outputs": [],
   "source": [
    " sc.tl.umap(adata_covid)"
   ]
  },
  {
   "cell_type": "code",
   "execution_count": null,
   "id": "9ce01e05",
   "metadata": {},
   "outputs": [],
   "source": [
    "sc.tl.leiden(adata_covid, resolution = 0.5)"
   ]
  },
  {
   "cell_type": "code",
   "execution_count": null,
   "id": "b5d59de6",
   "metadata": {},
   "outputs": [],
   "source": [
    "adata_covid.obs"
   ]
  },
  {
   "cell_type": "markdown",
   "id": "68bb2fdb",
   "metadata": {},
   "source": [
    "# control - filtering, normalization(log),qc -calculate\n",
    "# and umap, leiden mapping"
   ]
  },
  {
   "cell_type": "code",
   "execution_count": null,
   "id": "ddc7a765",
   "metadata": {},
   "outputs": [],
   "source": [
    "sc.pp.filter_genes(adata_control, min_cells=10)\n",
    "sc.pp.filter_cells(adata_control, min_genes=100)"
   ]
  },
  {
   "cell_type": "code",
   "execution_count": null,
   "id": "99f229ec",
   "metadata": {},
   "outputs": [],
   "source": [
    "sc.pp.normalize_per_cell(adata_control, counts_per_cell_after=1000)\n",
    "sc.pp.log1p(adata_control)\n",
    "sc.pp.highly_variable_genes(adata_control, flavor=\"cell_ranger\", n_top_genes=5000)\n",
    "sc.tl.pca(adata_control)\n",
    "sc.pp.neighbors(adata_control)"
   ]
  },
  {
   "cell_type": "code",
   "execution_count": null,
   "id": "9666b55c",
   "metadata": {},
   "outputs": [],
   "source": [
    "ir.tl.chain_qc(adata_control)"
   ]
  },
  {
   "cell_type": "code",
   "execution_count": null,
   "id": "5daeb6dd",
   "metadata": {},
   "outputs": [],
   "source": [
    "sc.tl.leiden(adata_control, resolution = 0.5)"
   ]
  },
  {
   "cell_type": "code",
   "execution_count": null,
   "id": "9b09e487",
   "metadata": {},
   "outputs": [],
   "source": [
    " sc.tl.umap(adata_control)"
   ]
  },
  {
   "cell_type": "code",
   "execution_count": null,
   "id": "38eedba1",
   "metadata": {},
   "outputs": [],
   "source": [
    "adata_control.obs"
   ]
  },
  {
   "cell_type": "markdown",
   "id": "0fdab6fe",
   "metadata": {},
   "source": [
    "## adding type column to both covid and control and merging"
   ]
  },
  {
   "cell_type": "code",
   "execution_count": null,
   "id": "0a88e38e",
   "metadata": {},
   "outputs": [],
   "source": [
    "adata_covid.obs[\"type\"] = \"covid\""
   ]
  },
  {
   "cell_type": "code",
   "execution_count": null,
   "id": "5bd93875",
   "metadata": {},
   "outputs": [],
   "source": [
    "adata_control.obs[\"type\"] = \"control\""
   ]
  },
  {
   "cell_type": "code",
   "execution_count": null,
   "id": "af9e2a3a",
   "metadata": {},
   "outputs": [],
   "source": [
    "adata_covid_control = adata_covid.concatenate(adata_control,index_unique=None)"
   ]
  },
  {
   "cell_type": "code",
   "execution_count": null,
   "id": "0675fa27",
   "metadata": {},
   "outputs": [],
   "source": [
    "adata_covid_control.obs"
   ]
  },
  {
   "cell_type": "markdown",
   "id": "ff4eec88",
   "metadata": {},
   "source": [
    "# viewing genes wrt literature"
   ]
  },
  {
   "cell_type": "code",
   "execution_count": null,
   "id": "ba217bfb",
   "metadata": {},
   "outputs": [],
   "source": [
    "from matplotlib.pyplot import rc_context"
   ]
  },
  {
   "cell_type": "code",
   "execution_count": null,
   "id": "e135cc1c",
   "metadata": {},
   "outputs": [],
   "source": [
    "#sc.pl.umap (adata, save = '/opt/data/x.png', color = 'leiden')"
   ]
  },
  {
   "cell_type": "code",
   "execution_count": null,
   "id": "87f3dc87",
   "metadata": {},
   "outputs": [],
   "source": [
    "with rc_context({'figure.figsize': (4, 4)}):\n",
    "    sc.pl.umap(adata_covid, color=['MS4A1','CD19','CD27','CD38','IFIT1','IRF4','PRDM1','MKI67','CD40','IGJ','n_counts'],s=50, frameon=False, ncols=4, vmax='p99')"
   ]
  },
  {
   "cell_type": "code",
   "execution_count": null,
   "id": "1e32bdb5",
   "metadata": {},
   "outputs": [],
   "source": [
    "with rc_context({'figure.figsize': (4, 4)}):\n",
    "    sc.pl.umap(adata_control, color=['MS4A1','CD19','CD27','CD38','IFIT1','IRF4','PRDM1','MKI67','CD40','IGJ','n_counts'],s=50, frameon=False, ncols=4, vmax='p99')"
   ]
  },
  {
   "cell_type": "code",
   "execution_count": null,
   "id": "c95d177d",
   "metadata": {},
   "outputs": [],
   "source": [
    "sc.pl.umap(adata_covid, color = 'leiden')"
   ]
  },
  {
   "cell_type": "code",
   "execution_count": null,
   "id": "c6cbaae3",
   "metadata": {},
   "outputs": [],
   "source": [
    "sc.pl.umap(adata_control, color='leiden')"
   ]
  },
  {
   "cell_type": "code",
   "execution_count": null,
   "id": "5dc11b9d",
   "metadata": {},
   "outputs": [],
   "source": [
    "sc.pl.umap(adata_covid_control, color=['type', 'leiden', ])"
   ]
  },
  {
   "cell_type": "markdown",
   "id": "17baaabb",
   "metadata": {},
   "source": [
    "# making a copy of combined covid , control and filtering, normalization"
   ]
  },
  {
   "cell_type": "code",
   "execution_count": null,
   "id": "1bfc62bc",
   "metadata": {},
   "outputs": [],
   "source": [
    "adataC=adata_covid_control"
   ]
  },
  {
   "cell_type": "code",
   "execution_count": null,
   "id": "79cabcfb",
   "metadata": {},
   "outputs": [],
   "source": [
    "sc.pp.filter_genes(adataC, min_cells=10)\n",
    "sc.pp.filter_cells(adataC, min_genes=100)"
   ]
  },
  {
   "cell_type": "code",
   "execution_count": null,
   "id": "97c40ed6",
   "metadata": {},
   "outputs": [],
   "source": [
    "adataC.obs['receptor_subtype'].unique()"
   ]
  },
  {
   "cell_type": "code",
   "execution_count": null,
   "id": "f07946ca",
   "metadata": {},
   "outputs": [],
   "source": [
    "adataC.obs"
   ]
  },
  {
   "cell_type": "markdown",
   "id": "8754ea0f",
   "metadata": {},
   "source": [
    "# back to visualizing"
   ]
  },
  {
   "cell_type": "code",
   "execution_count": null,
   "id": "d6c822b0",
   "metadata": {},
   "outputs": [],
   "source": [
    "sc.pl.umap(adata_covid, color=['chain_pairing','leiden'])"
   ]
  },
  {
   "cell_type": "code",
   "execution_count": null,
   "id": "6a2082cf",
   "metadata": {},
   "outputs": [],
   "source": [
    "sc.pl.umap(adata_covid_control, color=['chain_pairing','leiden'])"
   ]
  },
  {
   "cell_type": "code",
   "execution_count": null,
   "id": "b4fcca16",
   "metadata": {},
   "outputs": [],
   "source": [
    "sc.pl.umap(adata_control, color=['chain_pairing','leiden'])"
   ]
  },
  {
   "cell_type": "code",
   "execution_count": null,
   "id": "1e30d3ef",
   "metadata": {},
   "outputs": [],
   "source": [
    "ir.tl.chain_qc(adata_covid_control)"
   ]
  },
  {
   "cell_type": "code",
   "execution_count": null,
   "id": "2a042d04",
   "metadata": {},
   "outputs": [],
   "source": [
    "with rc_context({'figure.figsize': (4, 4)}):\n",
    "    sc.pl.umap(\n",
    "    adata_covid_control,\n",
    "    color=[\"receptor_type\", \"receptor_subtype\", \"chain_pairing\", \"type\"]\n",
    "    ,s=50, frameon=False, ncols=2, vmax='p99',legend_fontsize='medium'\n",
    "    )"
   ]
  },
  {
   "cell_type": "markdown",
   "id": "053e46ea",
   "metadata": {},
   "source": [
    "## activation and function"
   ]
  },
  {
   "cell_type": "code",
   "execution_count": null,
   "id": "615abea5",
   "metadata": {},
   "outputs": [],
   "source": [
    "with rc_context({'figure.figsize': (4, 4)}):\n",
    "    sc.pl.umap(adata_covid_control, color=['CD40','IGJ','type','n_counts'],s=50, frameon=False, ncols=2, vmax='p99')"
   ]
  },
  {
   "cell_type": "markdown",
   "id": "5704104e",
   "metadata": {},
   "source": [
    "## integrins"
   ]
  },
  {
   "cell_type": "markdown",
   "id": "9df2aefe",
   "metadata": {},
   "source": [
    "## "
   ]
  },
  {
   "cell_type": "code",
   "execution_count": null,
   "id": "0e770ab7",
   "metadata": {},
   "outputs": [],
   "source": [
    "with rc_context({'figure.figsize': (4, 4)}):\n",
    "    sc.pl.umap(adata_covid_control, color=['ITGA4','ITGB7','ITGAE','ITGB1','ITGB2','type','n_counts'],s=50, frameon=False, ncols=3\n",
    "               \n",
    "               , vmax='p99')"
   ]
  },
  {
   "cell_type": "markdown",
   "id": "7488c6e5",
   "metadata": {},
   "source": [
    "## chemokine receptors"
   ]
  },
  {
   "cell_type": "markdown",
   "id": "1efaeab1",
   "metadata": {},
   "source": [
    "## causes inflammation and organ damage in covid"
   ]
  },
  {
   "cell_type": "code",
   "execution_count": null,
   "id": "be8a08a2",
   "metadata": {},
   "outputs": [],
   "source": [
    "with rc_context({'figure.figsize': (4, 4)}):\n",
    "    sc.pl.umap(adata_covid_control, color=['CXCR3','CXCR4','CXCR5','CCR1','CCR2','CCR6','CCR7','CCR9','CCR10','n_counts','type'],s=50, frameon=False, ncols=4, vmax='p99')"
   ]
  },
  {
   "cell_type": "markdown",
   "id": "90df145d",
   "metadata": {},
   "source": [
    "## stat3/smad associates"
   ]
  },
  {
   "cell_type": "markdown",
   "id": "b9e4d527",
   "metadata": {},
   "source": [
    "## molecules that interact with each other and regulate cellular processes such as growth, differentiation and tumorigenesis12. \n",
    "## STAT3 stands for signal transducer and activator of transcription 3, which is a protein that transmits signals from the cell membrane to the nucleus. \n",
    "## Smad3 stands for Sma and Mad related protein , which is a protein that operates downstream of growth factors such as TGF-β.\n",
    "## STAT3 can selectively interact with Smad3 and antagonize TGF-β signaling, which means it can reduce the effects of TGF-β on the cell"
   ]
  },
  {
   "cell_type": "code",
   "execution_count": null,
   "id": "d3e6a090",
   "metadata": {},
   "outputs": [],
   "source": [
    "with rc_context({'figure.figsize': (4, 4)}):\n",
    "    sc.pl.umap(adata_covid_control, color=['FOS','JUN','S100A4','TIMP1','ID3','TGFBR1','TGFBR2','SMAD2','SMAD3','SMAD4','n_counts','type'],s=50, frameon=False, ncols=4, vmax='p99')"
   ]
  },
  {
   "cell_type": "markdown",
   "id": "6ee32761",
   "metadata": {},
   "source": [
    "## receptor info"
   ]
  },
  {
   "cell_type": "code",
   "execution_count": null,
   "id": "ed6ddb55",
   "metadata": {},
   "outputs": [],
   "source": [
    "import matplotlib.pyplot as plt"
   ]
  },
  {
   "cell_type": "code",
   "execution_count": null,
   "id": "ca199617",
   "metadata": {},
   "outputs": [],
   "source": [
    "ax = ir.pl.group_abundance(adata_covid_control, groupby=\"receptor_subtype\", target_col=\"type\")\n",
    "plt.show()"
   ]
  },
  {
   "cell_type": "code",
   "execution_count": null,
   "id": "4af0be14",
   "metadata": {},
   "outputs": [],
   "source": [
    "ax = ir.pl.group_abundance(adata_covid_control, groupby=\"receptor_type\", target_col=\"type\")\n",
    "plt.show()"
   ]
  },
  {
   "cell_type": "code",
   "execution_count": null,
   "id": "4d7f196e",
   "metadata": {},
   "outputs": [],
   "source": [
    "ax = ir.pl.group_abundance(adata_covid_control, groupby=\"chain_pairing\", target_col=\"type\")\n",
    "\n",
    "plt.show()"
   ]
  },
  {
   "cell_type": "markdown",
   "id": "a12bea62",
   "metadata": {},
   "source": [
    "# defining list of marker genes from literature"
   ]
  },
  {
   "cell_type": "code",
   "execution_count": null,
   "id": "820fbcb3",
   "metadata": {},
   "outputs": [],
   "source": [
    "\n"
   ]
  },
  {
   "cell_type": "code",
   "execution_count": null,
   "id": "9570ee51",
   "metadata": {},
   "outputs": [],
   "source": [
    "marker_genes = ['MS4A1','CD19','CD27','CD38','IFIT1','IRF4','PRDM1','MKI67','CD40','IGJ']"
   ]
  },
  {
   "cell_type": "code",
   "execution_count": null,
   "id": "9f56aba6",
   "metadata": {},
   "outputs": [],
   "source": [
    "ax = sc.pl.stacked_violin(adata_covid_control, marker_genes, groupby='type')"
   ]
  },
  {
   "cell_type": "code",
   "execution_count": null,
   "id": "7e9c5ce2",
   "metadata": {},
   "outputs": [],
   "source": [
    "marker_genes_2 = ['FOS','JUN','S100A4','TIMP1','ID3','TGFBR1','TGFBR2','SMAD2','SMAD3','SMAD4','CXCR3','CXCR4','CXCR5','CCR1','CCR2','CCR6','CCR7','CCR9','CCR10','MS4A1','CD19','CD27','CD38','IFIT1','IRF4','PRDM1','MKI67','CD40','IGJ']"
   ]
  },
  {
   "cell_type": "code",
   "execution_count": null,
   "id": "7c9f8026",
   "metadata": {},
   "outputs": [],
   "source": [
    "ax = sc.pl.dotplot(adata_covid_control, marker_genes_2, groupby='type')"
   ]
  },
  {
   "cell_type": "code",
   "execution_count": null,
   "id": "035dc97f",
   "metadata": {},
   "outputs": [],
   "source": [
    "marker_genes_dict = {'B-cell': ['CD19', 'MS4A1','CD27'],\n",
    "                     'Plasmablast': ['CD27','CD38','MKI67','CD19'],\n",
    "                     'Proliferative-rest-plasmablast': ['CD27','CD38','CD19'],\n",
    "                     'type-1-ifn': ['CD27','CD38','CD19','IFIT1','MKI67'],\n",
    "                     'Type-1-ifn-plasmablast': ['CD27','CD38','CD19','IFIT1'],\n",
    "                     'plasma cells': ['IRF4','PRDM1']}"
   ]
  },
  {
   "cell_type": "code",
   "execution_count": null,
   "id": "621686ab",
   "metadata": {},
   "outputs": [],
   "source": [
    "ax = sc.pl.dotplot(adata_covid_control, marker_genes_dict, groupby='type')"
   ]
  },
  {
   "cell_type": "markdown",
   "id": "e956eb28",
   "metadata": {},
   "source": [
    "# dge for covid - wilcoxon "
   ]
  },
  {
   "cell_type": "code",
   "execution_count": null,
   "id": "9c86b3e2",
   "metadata": {},
   "outputs": [],
   "source": [
    "from matplotlib import rcParams"
   ]
  },
  {
   "cell_type": "code",
   "execution_count": null,
   "id": "7a5f3344",
   "metadata": {},
   "outputs": [],
   "source": [
    "\n",
    "sc.tl.rank_genes_groups(adata_covid, \"leiden\", method='wilcoxon', key_added = \"wilcoxon\")\n",
    "sc.pl.rank_genes_groups(adata_covid, n_genes=15, sharey=False, key=\"wilcoxon\")"
   ]
  },
  {
   "cell_type": "code",
   "execution_count": null,
   "id": "f113903d",
   "metadata": {},
   "outputs": [],
   "source": [
    "\n",
    "sc.tl.rank_genes_groups(adata_covid, \"leiden\", method='wilcoxon')\n",
    "sc.pl.rank_genes_groups(adata_covid, n_genes=15, sharey=False)"
   ]
  },
  {
   "cell_type": "code",
   "execution_count": null,
   "id": "781619e3",
   "metadata": {},
   "outputs": [],
   "source": []
  },
  {
   "cell_type": "code",
   "execution_count": null,
   "id": "cd20a8fe",
   "metadata": {},
   "outputs": [],
   "source": [
    "adata_covid.uns['rank_genes_groups']['names']"
   ]
  },
  {
   "cell_type": "code",
   "execution_count": null,
   "id": "58789dd8",
   "metadata": {},
   "outputs": [],
   "source": [
    "len(adata_covid.uns['rank_genes_groups']['names']['0'])"
   ]
  },
  {
   "cell_type": "code",
   "execution_count": null,
   "id": "5d69b4b8",
   "metadata": {},
   "outputs": [],
   "source": [
    "for j in range(0,6):\n",
    "    pointsx=[]\n",
    "    \n",
    "    pointsy=[]\n",
    "    \n",
    "    for i,x in enumerate(adata_covid.uns['rank_genes_groups']['logfoldchanges'][str(j)]):\n",
    "        \n",
    "        if (x<-2):\n",
    "            \n",
    "            pointsx.append(adata_covid.uns['rank_genes_groups']['names'][str(j)][i])\n",
    "            \n",
    "            pointsy.append(x)\n",
    "    import matplotlib.pyplot as plt\n",
    "    plt.rcParams[\"figure.figsize\"] = [40,25]\n",
    "    plt.rcParams[\"figure.autolayout\"] = True\n",
    "    plt.xticks(fontsize =15)\n",
    "    plt.plot(pointsx,pointsy)\n",
    "    plt.title('cluster' + str(j))\n",
    "    plt.xlabel('genes')\n",
    "    plt.ylabel('logfoldchanges')\n",
    "    plt.show()\n",
    "    "
   ]
  },
  {
   "cell_type": "code",
   "execution_count": null,
   "id": "8b19def0",
   "metadata": {},
   "outputs": [],
   "source": [
    "for j in range(0,6):\n",
    "    pointsx=[]\n",
    "    \n",
    "    pointsy=[]\n",
    "    \n",
    "    for i,x in enumerate(adata_covid.uns['rank_genes_groups']['pvals'][str(j)]):\n",
    "        \n",
    "        if (x<0.01):\n",
    "            \n",
    "            pointsx.append(adata_covid.uns['rank_genes_groups']['names'][str(j)][i])\n",
    "            \n",
    "            pointsy.append(x)\n",
    "    import matplotlib.pyplot as plt\n",
    "    plt.rcParams[\"figure.figsize\"] = [40,25]\n",
    "    plt.rcParams[\"figure.autolayout\"] = True\n",
    "    plt.xticks(fontsize =15)\n",
    "    plt.plot(pointsx,pointsy)\n",
    "    plt.title('cluster' + str(j))\n",
    "    plt.xlabel('genes')\n",
    "    plt.ylabel('pvals')\n",
    "    plt.show()"
   ]
  },
  {
   "cell_type": "code",
   "execution_count": null,
   "id": "254032aa",
   "metadata": {},
   "outputs": [],
   "source": [
    "sc.pl.rank_genes_groups_dotplot(adata_covid, n_genes=5)"
   ]
  },
  {
   "cell_type": "code",
   "execution_count": null,
   "id": "e5ca0310",
   "metadata": {},
   "outputs": [],
   "source": [
    "\n",
    "sc.pl.rank_genes_groups_dotplot(adata_covid, n_genes=4, key='wilcoxon')"
   ]
  },
  {
   "cell_type": "code",
   "execution_count": null,
   "id": "17249737",
   "metadata": {},
   "outputs": [],
   "source": [
    "adata_covid.obs"
   ]
  },
  {
   "cell_type": "code",
   "execution_count": null,
   "id": "704e8c53",
   "metadata": {},
   "outputs": [],
   "source": [
    "sc.tl.filter_rank_genes_groups(adata_covid,\n",
    "                               min_in_group_fraction=0.5,\n",
    "                               max_out_group_fraction=0.3,\n",
    "                               min_fold_change=1.5)"
   ]
  },
  {
   "cell_type": "code",
   "execution_count": null,
   "id": "4976ce34",
   "metadata": {},
   "outputs": [],
   "source": [
    "\n",
    "sc.pl.rank_genes_groups_dotplot(adata_covid, n_genes=6, key='rank_genes_groups_filtered')"
   ]
  },
  {
   "cell_type": "code",
   "execution_count": null,
   "id": "0c88609e",
   "metadata": {},
   "outputs": [],
   "source": [
    "adata_covid.obs.receptor_subtype.cat.categories"
   ]
  },
  {
   "cell_type": "code",
   "execution_count": null,
   "id": "09964115",
   "metadata": {},
   "outputs": [],
   "source": [
    "sc.pl.rank_genes_groups_violin(adata_covid,  n_genes=5, jitter=False)"
   ]
  },
  {
   "cell_type": "code",
   "execution_count": null,
   "id": "9cd2c75b",
   "metadata": {},
   "outputs": [],
   "source": [
    "sc.tl.dendrogram(adata_covid, 'receptor_subtype')"
   ]
  },
  {
   "cell_type": "code",
   "execution_count": null,
   "id": "86e2f44f",
   "metadata": {},
   "outputs": [],
   "source": [
    "ax = sc.pl.dendrogram(adata_covid, 'receptor_subtype')"
   ]
  },
  {
   "cell_type": "markdown",
   "id": "eb663bcb",
   "metadata": {},
   "source": [
    "# ..."
   ]
  },
  {
   "cell_type": "code",
   "execution_count": null,
   "id": "1fbb9480",
   "metadata": {},
   "outputs": [],
   "source": [
    "#!pip install git+https://github.com/MintaYLu/COT.git"
   ]
  },
  {
   "cell_type": "code",
   "execution_count": null,
   "id": "a2050ab6",
   "metadata": {},
   "outputs": [],
   "source": [
    "#from COT.COT import COT\n"
   ]
  },
  {
   "cell_type": "code",
   "execution_count": null,
   "id": "6ada263c",
   "metadata": {},
   "outputs": [],
   "source": [
    "#cot = COT(df_raw=adataC, normalization=False)"
   ]
  },
  {
   "cell_type": "code",
   "execution_count": null,
   "id": "e6e72297",
   "metadata": {},
   "outputs": [],
   "source": [
    "#cot.df_raw"
   ]
  },
  {
   "cell_type": "code",
   "execution_count": null,
   "id": "22d41690",
   "metadata": {},
   "outputs": [],
   "source": [
    "#cot.generate_subtype_means(subtype_label=['IGH', 'IGH+IGK', 'IGH+IGL', 'ambiguous', 'no IR'])"
   ]
  },
  {
   "cell_type": "markdown",
   "id": "c4b8d143",
   "metadata": {},
   "source": [
    "## .."
   ]
  },
  {
   "cell_type": "code",
   "execution_count": null,
   "id": "7aef3eee",
   "metadata": {},
   "outputs": [],
   "source": [
    "sc.pl.rank_genes_groups_heatmap(adata_covid, n_genes=5, groupby=\"leiden\", show_gene_labels=True)\n"
   ]
  },
  {
   "cell_type": "markdown",
   "id": "43fe907a",
   "metadata": {},
   "source": [
    "## dge across conditions - COVID - CONTROL"
   ]
  },
  {
   "cell_type": "code",
   "execution_count": null,
   "id": "de26baf2",
   "metadata": {},
   "outputs": [],
   "source": [
    "cl1 = adata_covid_control[adata_covid_control.obs['leiden'] == '2',:]\n",
    "cl1.obs['type'].value_counts()"
   ]
  },
  {
   "cell_type": "code",
   "execution_count": null,
   "id": "e8695d47",
   "metadata": {},
   "outputs": [],
   "source": [
    "with rc_context({'figure.figsize': (4, 4)}):\n",
    "    sc.tl.rank_genes_groups(cl1, 'type', method='wilcoxon', key_added = \"wilcoxon\")\n",
    "    sc.pl.rank_genes_groups(cl1, n_genes=25, sharey=False, key=\"wilcoxon\")"
   ]
  },
  {
   "cell_type": "code",
   "execution_count": null,
   "id": "1a74f561",
   "metadata": {},
   "outputs": [],
   "source": [
    "sc.pl.rank_genes_groups_violin(cl1, n_genes=10, key=\"wilcoxon\")"
   ]
  },
  {
   "cell_type": "code",
   "execution_count": null,
   "id": "758486a6",
   "metadata": {},
   "outputs": [],
   "source": [
    "import seaborn as sns\n",
    "\n",
    "genes1 = sc.get.rank_genes_groups_df(cl1, group='covid', key='wilcoxon')['names'][:5]\n",
    "genes2 = sc.get.rank_genes_groups_df(cl1, group='control', key='wilcoxon')['names'][:5]\n",
    "genes = genes1.tolist() +  genes2.tolist() \n",
    "df = sc.get.obs_df(adata_covid_control, genes + ['leiden','type'], use_raw=False)\n",
    "df2 = df.melt(id_vars=[\"leiden\",'type'], value_vars=genes)"
   ]
  },
  {
   "cell_type": "code",
   "execution_count": null,
   "id": "9ad82933",
   "metadata": {},
   "outputs": [],
   "source": [
    "df2"
   ]
  },
  {
   "cell_type": "code",
   "execution_count": null,
   "id": "83bfed6d",
   "metadata": {},
   "outputs": [],
   "source": [
    "with rc_context({'figure.figsize': (4, 4)}):\n",
    "    sns.catplot(x = \"leiden\", y = \"value\", hue = \"type\", kind = 'violin', \n",
    "               col = \"variable\", data = df2, col_wrap=4, inner=None)\n",
    "    plt.show()"
   ]
  },
  {
   "cell_type": "code",
   "execution_count": null,
   "id": "502060d0",
   "metadata": {},
   "outputs": [],
   "source": []
  },
  {
   "cell_type": "code",
   "execution_count": null,
   "id": "7d6d8219",
   "metadata": {},
   "outputs": [],
   "source": [
    "adata_covid_control.obs"
   ]
  },
  {
   "cell_type": "code",
   "execution_count": null,
   "id": "0eee1f25",
   "metadata": {},
   "outputs": [],
   "source": [
    "genes1 = sc.get.rank_genes_groups_df(cl1, group='covid', key='wilcoxon')['names'][:5]\n",
    "genes2 = sc.get.rank_genes_groups_df(cl1, group='control', key='wilcoxon')['names'][:5]\n",
    "genes = genes1.tolist() +  genes2.tolist() \n",
    "with rc_context({'figure.figsize': (4, 4)}):\n",
    "    sc.pl.violin(cl1, genes1, groupby='type')\n",
    "    sc.pl.violin(cl1, genes2, groupby='type')\n",
    "    plt.show()"
   ]
  },
  {
   "cell_type": "code",
   "execution_count": null,
   "id": "bd37f843",
   "metadata": {},
   "outputs": [],
   "source": [
    "genes1 = sc.get.rank_genes_groups_df(cl1, group='covid', key='wilcoxon')['names'][:20]\n",
    "genes2 = sc.get.rank_genes_groups_df(cl1, group='control', key='wilcoxon')['names'][:20]\n",
    "genes = genes1.tolist() +  genes2.tolist() \n",
    "\n",
    "sc.pl.dotplot(cl1,genes, groupby='type')"
   ]
  },
  {
   "cell_type": "code",
   "execution_count": null,
   "id": "93e91798",
   "metadata": {},
   "outputs": [],
   "source": [
    "target_cells = 200\n",
    "\n",
    "tmp = [cl1[cl1.obs['type'] == s] for s in cl1.obs['type'].cat.categories]\n",
    "\n",
    "for dat in tmp:\n",
    "    if dat.n_obs > target_cells:\n",
    "         sc.pp.subsample(dat, n_obs=target_cells)\n",
    "\n",
    "cl1_sub = tmp[0].concatenate(*tmp[1:])\n",
    "\n",
    "cl1_sub.obs['type'].value_counts()"
   ]
  },
  {
   "cell_type": "code",
   "execution_count": null,
   "id": "efa3588c",
   "metadata": {},
   "outputs": [],
   "source": [
    "with rc_context({'figure.figsize': (4, 4)}):\n",
    "    sc.tl.rank_genes_groups(cl1_sub, 'type', method='wilcoxon', key_added = \"wilcoxon\")\n",
    "    sc.pl.rank_genes_groups(cl1_sub, n_genes=25, sharey=False, key=\"wilcoxon\")"
   ]
  },
  {
   "cell_type": "code",
   "execution_count": null,
   "id": "568f4beb",
   "metadata": {},
   "outputs": [],
   "source": [
    "genes1 = sc.get.rank_genes_groups_df(cl1_sub, group='covid', key='wilcoxon')['names'][:20]\n",
    "genes2 = sc.get.rank_genes_groups_df(cl1_sub, group='control', key='wilcoxon')['names'][:20]\n",
    "genes = genes1.tolist() +  genes2.tolist() \n",
    "\n",
    "sc.pl.dotplot(cl1_sub,genes, groupby='type')"
   ]
  },
  {
   "cell_type": "code",
   "execution_count": null,
   "id": "e137b59d",
   "metadata": {},
   "outputs": [],
   "source": []
  },
  {
   "cell_type": "code",
   "execution_count": null,
   "id": "bb52bb51",
   "metadata": {},
   "outputs": [],
   "source": [
    "!pip install gseapy"
   ]
  },
  {
   "cell_type": "code",
   "execution_count": null,
   "id": "6c0df1dd",
   "metadata": {},
   "outputs": [],
   "source": [
    "import gseapy"
   ]
  },
  {
   "cell_type": "code",
   "execution_count": null,
   "id": "0a30ba46",
   "metadata": {},
   "outputs": [],
   "source": [
    "gene_set_names = gseapy.get_library_name(organism='Human')\n",
    "print(gene_set_names)"
   ]
  },
  {
   "cell_type": "code",
   "execution_count": null,
   "id": "8c6641bc",
   "metadata": {},
   "outputs": [],
   "source": [
    "\n",
    "glist = sc.get.rank_genes_groups_df(cl1_sub, group='covid', \n",
    "                                    key='wilcoxon', log2fc_min=0.25, \n",
    "                                    pval_cutoff=0.05)['names'].squeeze().str.strip().tolist()\n",
    "print(len(glist))"
   ]
  },
  {
   "cell_type": "code",
   "execution_count": null,
   "id": "ffb622bf",
   "metadata": {},
   "outputs": [],
   "source": [
    "#cl1_sub"
   ]
  },
  {
   "cell_type": "code",
   "execution_count": null,
   "id": "ecdafc96",
   "metadata": {},
   "outputs": [],
   "source": [
    "glist"
   ]
  },
  {
   "cell_type": "code",
   "execution_count": null,
   "id": "49f8b736",
   "metadata": {},
   "outputs": [],
   "source": [
    "enr_res = gseapy.enrichr(gene_list=glist,\n",
    "                     organism='Human',\n",
    "                     gene_sets='GO_Biological_Process_2018',\n",
    "                     cutoff = 0.5)"
   ]
  },
  {
   "cell_type": "code",
   "execution_count": null,
   "id": "d44b95d9",
   "metadata": {},
   "outputs": [],
   "source": [
    "enr_res.results.head()"
   ]
  },
  {
   "cell_type": "code",
   "execution_count": null,
   "id": "0c7ddc38",
   "metadata": {},
   "outputs": [],
   "source": [
    "from gseapy import barplot"
   ]
  },
  {
   "cell_type": "code",
   "execution_count": null,
   "id": "0b206744",
   "metadata": {},
   "outputs": [],
   "source": [
    "\n",
    "gseapy.barplot(enr_res.res2d,title='GO_Biological_Process_2018')\n",
    "plt.show()"
   ]
  },
  {
   "cell_type": "code",
   "execution_count": null,
   "id": "e91df49d",
   "metadata": {},
   "outputs": [],
   "source": []
  },
  {
   "cell_type": "code",
   "execution_count": null,
   "id": "c20a0b1e",
   "metadata": {},
   "outputs": [],
   "source": [
    "gene_rank = sc.get.rank_genes_groups_df(cl1_sub, group='covid', key='wilcoxon')[['names','logfoldchanges']]\n",
    "gene_rank.sort_values(by=['logfoldchanges'], inplace=True, ascending=False)"
   ]
  },
  {
   "cell_type": "code",
   "execution_count": null,
   "id": "468ecdba",
   "metadata": {},
   "outputs": [],
   "source": [
    "\n",
    "# calculate_qc_metrics will calculate number of cells per gene\n",
    "sc.pp.calculate_qc_metrics(cl1, percent_top=None, log1p=False, inplace=True)\n",
    "\n",
    "# filter for genes expressed in at least 30 cells.\n",
    "gene_rank = gene_rank[gene_rank['names'].isin(cl1.var_names[cl1.var.n_cells_by_counts>30])]"
   ]
  },
  {
   "cell_type": "code",
   "execution_count": null,
   "id": "bfade906",
   "metadata": {},
   "outputs": [],
   "source": [
    "gene_rank"
   ]
  },
  {
   "cell_type": "code",
   "execution_count": null,
   "id": "d15e0ac4",
   "metadata": {},
   "outputs": [],
   "source": [
    "gene_set_names = gseapy.get_library_name(organism='Human')\n",
    "print(gene_set_names)\n"
   ]
  },
  {
   "cell_type": "code",
   "execution_count": null,
   "id": "37f75797",
   "metadata": {},
   "outputs": [],
   "source": [
    "res = gseapy.prerank(rnk=gene_rank, gene_sets='KEGG_2021_Human')"
   ]
  },
  {
   "cell_type": "code",
   "execution_count": null,
   "id": "531f83b7",
   "metadata": {},
   "outputs": [],
   "source": [
    "res.results"
   ]
  },
  {
   "cell_type": "code",
   "execution_count": null,
   "id": "54bb63fd",
   "metadata": {},
   "outputs": [],
   "source": [
    "import pandas as pd"
   ]
  },
  {
   "cell_type": "code",
   "execution_count": null,
   "id": "4cc785d8",
   "metadata": {},
   "outputs": [],
   "source": [
    "out = []\n",
    "\n",
    "for term in list(res.results):\n",
    "    out.append([term,\n",
    "               res.results[term]['fdr'],\n",
    "               res.results[term]['es'],\n",
    "               res.results[term]['nes']])\n",
    "\n",
    "out_df = pd.DataFrame(out, columns = ['Term','fdr', 'es', 'nes']).sort_values('fdr').reset_index(drop = True)\n",
    "out_df"
   ]
  },
  {
   "cell_type": "code",
   "execution_count": null,
   "id": "7506cd1d",
   "metadata": {},
   "outputs": [],
   "source": [
    "list(res.res2d.loc[[9]]['Lead_genes'])"
   ]
  },
  {
   "cell_type": "code",
   "execution_count": null,
   "id": "740369d3",
   "metadata": {
    "scrolled": true
   },
   "outputs": [],
   "source": [
    "terms = res.res2d.Term\n",
    "terms[:30]"
   ]
  },
  {
   "cell_type": "code",
   "execution_count": null,
   "id": "29c7ce99",
   "metadata": {},
   "outputs": [],
   "source": [
    "from gseapy import gseaplot"
   ]
  },
  {
   "cell_type": "code",
   "execution_count": null,
   "id": "8dae5490",
   "metadata": {},
   "outputs": [],
   "source": [
    "gseapy.gseaplot(rank_metric=res.ranking, term=terms[9], **res.results[terms[9]])\n",
    "plt.show()"
   ]
  },
  {
   "cell_type": "code",
   "execution_count": null,
   "id": "98f4e220",
   "metadata": {},
   "outputs": [],
   "source": [
    "\n",
    "from gseapy import barplot, dotplot"
   ]
  },
  {
   "cell_type": "code",
   "execution_count": null,
   "id": "21047318",
   "metadata": {},
   "outputs": [],
   "source": [
    "ax = dotplot(enr_res.results,\n",
    "              column=\"Adjusted P-value\",\n",
    "              x='Gene_set', # set x axis, so you could do a multi-sample/library comparsion\n",
    "              size=10,\n",
    "              top_term=5,\n",
    "              figsize=(3,5),\n",
    "              title = \"GO_Biological_Process_2018\",\n",
    "              xticklabels_rot=45, # rotate xtick labels\n",
    "              show_ring=True, # set to False to revmove outer ring\n",
    "              marker='o',\n",
    "             )"
   ]
  },
  {
   "cell_type": "code",
   "execution_count": null,
   "id": "dd940809",
   "metadata": {},
   "outputs": [],
   "source": [
    "plt.show()"
   ]
  },
  {
   "cell_type": "markdown",
   "id": "013cf309",
   "metadata": {},
   "source": [
    "## ................................"
   ]
  },
  {
   "cell_type": "code",
   "execution_count": null,
   "id": "6131e324",
   "metadata": {},
   "outputs": [],
   "source": [
    "adata_covid_control[:, adata_covid_control.var_names=='CFD'].var"
   ]
  },
  {
   "cell_type": "code",
   "execution_count": null,
   "id": "06a0497f",
   "metadata": {},
   "outputs": [],
   "source": [
    "adata_covid_control[:, adata_covid_control.var_names=='MS4A1'].var"
   ]
  },
  {
   "cell_type": "code",
   "execution_count": null,
   "id": "e7599695",
   "metadata": {},
   "outputs": [],
   "source": [
    "adata_covid_control[:, adata_covid_control.var_names=='CD38'].var"
   ]
  },
  {
   "cell_type": "code",
   "execution_count": null,
   "id": "c291a25c",
   "metadata": {},
   "outputs": [],
   "source": [
    "adata_covid_control[:, adata_covid_control.var_names=='GAPDH'].var"
   ]
  },
  {
   "cell_type": "code",
   "execution_count": null,
   "id": "b36a4952",
   "metadata": {},
   "outputs": [],
   "source": [
    "adata_covid_control.var_names.unique()"
   ]
  },
  {
   "cell_type": "code",
   "execution_count": null,
   "id": "de7ed18d",
   "metadata": {},
   "outputs": [],
   "source": [
    "names = gseapy.get_library_name()\n",
    "names[:10]"
   ]
  },
  {
   "cell_type": "code",
   "execution_count": null,
   "id": "151da0d1",
   "metadata": {},
   "outputs": [],
   "source": [
    "import matplotlib.pyplot as plt"
   ]
  },
  {
   "cell_type": "code",
   "execution_count": null,
   "id": "a1cea99b",
   "metadata": {},
   "outputs": [],
   "source": [
    "i = 7\n",
    "genes = res.res2d.Lead_genes.iloc[i].split(\";\")\n",
    "gseapy.heatmap(df = res.heatmat.loc[genes],\n",
    "           z_score=None,\n",
    "           title=res.res2d.Term.iloc[i],\n",
    "           figsize=(6,5),\n",
    "           cmap=plt.cm.viridis,\n",
    "           xticklabels=False)\n"
   ]
  },
  {
   "cell_type": "code",
   "execution_count": null,
   "id": "cfa5494b",
   "metadata": {},
   "outputs": [],
   "source": [
    "with rc_context({'figure.figsize': (4, 4)}):\n",
    "    sc.pl.umap(adata_covid, color=['TNF','IL6','CFD','FCGR2A','MAPK3','RPS10'],s=50, frameon=False, ncols=4, vmax='p99')"
   ]
  },
  {
   "cell_type": "code",
   "execution_count": null,
   "id": "90493311",
   "metadata": {},
   "outputs": [],
   "source": [
    "with rc_context({'figure.figsize': (4, 4)}):\n",
    "    sc.pl.umap(adata_control, color=['TNF','IL6','CFD','FCGR2A','MAPK3','RPS10'],s=50, frameon=False, ncols=4, vmax='p99')"
   ]
  },
  {
   "cell_type": "code",
   "execution_count": null,
   "id": "edf522b4",
   "metadata": {},
   "outputs": [],
   "source": [
    "adata_covid.obs_names_make_unique()"
   ]
  },
  {
   "cell_type": "code",
   "execution_count": null,
   "id": "5b7ab9e6",
   "metadata": {},
   "outputs": [],
   "source": [
    "adata_covid.uns"
   ]
  },
  {
   "cell_type": "code",
   "execution_count": null,
   "id": "1aecfcb1",
   "metadata": {},
   "outputs": [],
   "source": [
    "len(list(adata_covid.obs_names))"
   ]
  },
  {
   "cell_type": "code",
   "execution_count": null,
   "id": "50dd87f2",
   "metadata": {},
   "outputs": [],
   "source": [
    "len(set(list(adata_covid.obs_names)))"
   ]
  },
  {
   "cell_type": "code",
   "execution_count": null,
   "id": "cf8d0736",
   "metadata": {},
   "outputs": [],
   "source": [
    "set([1,1,2,3])"
   ]
  },
  {
   "cell_type": "code",
   "execution_count": null,
   "id": "6ecc00a8",
   "metadata": {},
   "outputs": [],
   "source": [
    "\n",
    "ir.tl.define_clonotypes(adata_covid, receptor_arms=\"all\", dual_ir=\"primary_only\")"
   ]
  },
  {
   "cell_type": "code",
   "execution_count": null,
   "id": "62b373bf",
   "metadata": {},
   "outputs": [],
   "source": [
    "ir.tl.clonotype_network(adata_covid, min_cells=20)"
   ]
  },
  {
   "cell_type": "code",
   "execution_count": null,
   "id": "617a0b5a",
   "metadata": {},
   "outputs": [],
   "source": [
    "adata_covid.obs"
   ]
  },
  {
   "cell_type": "code",
   "execution_count": null,
   "id": "b3ed3283",
   "metadata": {},
   "outputs": [],
   "source": [
    " adata_covid.obs[\"batch\"].unique()"
   ]
  },
  {
   "cell_type": "code",
   "execution_count": null,
   "id": "c9cabc4d",
   "metadata": {},
   "outputs": [],
   "source": [
    "ir.pl.clonotype_network(\n",
    "    adata_covid, color=\"type\", base_size=20, label_fontsize=9, panel_size=(7, 7)\n",
    ")\n"
   ]
  },
  {
   "cell_type": "code",
   "execution_count": null,
   "id": "7d39d787",
   "metadata": {},
   "outputs": [],
   "source": [
    "import matplotlib.pyplot as plt"
   ]
  },
  {
   "cell_type": "code",
   "execution_count": null,
   "id": "b80c78db",
   "metadata": {},
   "outputs": [],
   "source": [
    "plt.show()"
   ]
  },
  {
   "cell_type": "code",
   "execution_count": null,
   "id": "98883177",
   "metadata": {},
   "outputs": [],
   "source": [
    "#ir.pl.clonal_expansion(adata_covid, groupby = \"receptor_subtype\", target_col='clone_id', clip_at=3)"
   ]
  },
  {
   "cell_type": "code",
   "execution_count": null,
   "id": "3d18c71b",
   "metadata": {},
   "outputs": [],
   "source": [
    "#plt.show()"
   ]
  },
  {
   "cell_type": "code",
   "execution_count": null,
   "id": "540ef875",
   "metadata": {},
   "outputs": [],
   "source": [
    "ir.tl.clonal_expansion(adata_covid)"
   ]
  },
  {
   "cell_type": "code",
   "execution_count": null,
   "id": "55f37115",
   "metadata": {},
   "outputs": [],
   "source": [
    "#sc.pl.umap(adata_covid, color=[\"clonal_expansion\", \"clone_id_size\"])"
   ]
  },
  {
   "cell_type": "code",
   "execution_count": null,
   "id": "a908fe7e",
   "metadata": {},
   "outputs": [],
   "source": [
    "#ir.pl.clonal_expansion(adata_covid, groupby=\"leiden\", clip_at=4, normalize=False)"
   ]
  },
  {
   "cell_type": "code",
   "execution_count": null,
   "id": "fb16cad7",
   "metadata": {},
   "outputs": [],
   "source": [
    "#plt.show()"
   ]
  },
  {
   "cell_type": "code",
   "execution_count": null,
   "id": "a5abe45e",
   "metadata": {},
   "outputs": [],
   "source": [
    "ir.pp.ir_dist(\n",
    "    adata_covid,\n",
    "    metric=\"alignment\",\n",
    "    sequence=\"aa\",\n",
    "    cutoff=15,\n",
    ")"
   ]
  },
  {
   "cell_type": "code",
   "execution_count": null,
   "id": "259dd0d9",
   "metadata": {},
   "outputs": [],
   "source": [
    "ir.tl.define_clonotype_clusters(\n",
    "    adata_covid, sequence=\"aa\", metric=\"alignment\", receptor_arms=\"all\", dual_ir=\"any\"\n",
    ")"
   ]
  },
  {
   "cell_type": "code",
   "execution_count": null,
   "id": "e876053f",
   "metadata": {},
   "outputs": [],
   "source": [
    "adata_covid.obs.loc[adata_covid.obs[\"cc_aa_alignment\"] == \"80\", :].groupby(\n",
    "    [\n",
    "        \"IR_VJ_1_junction_aa\",\n",
    "        \"IR_VJ_2_junction_aa\",\n",
    "        \"IR_VDJ_1_junction_aa\",\n",
    "        \"IR_VDJ_2_junction_aa\",\n",
    "        \"receptor_subtype\",\n",
    "        \"type\",\"batch\"\n",
    "    ],\n",
    "    observed=True,\n",
    ").size().reset_index(name=\"n_cells\")"
   ]
  },
  {
   "cell_type": "code",
   "execution_count": null,
   "id": "e04f7b8c",
   "metadata": {
    "scrolled": true
   },
   "outputs": [],
   "source": [
    "adata_covid.obs"
   ]
  },
  {
   "cell_type": "code",
   "execution_count": null,
   "id": "007a6dbe",
   "metadata": {},
   "outputs": [],
   "source": [
    "ir.tl.clonotype_network(adata_covid, min_cells=3, sequence=\"aa\", metric=\"alignment\")"
   ]
  },
  {
   "cell_type": "code",
   "execution_count": null,
   "id": "3681f3ee",
   "metadata": {},
   "outputs": [],
   "source": [
    "ir.pl.clonotype_network(\n",
    "    adata_covid, color=\"is_cell\", label_fontsize=9, panel_size=(7, 7), base_size=20\n",
    ")"
   ]
  },
  {
   "cell_type": "code",
   "execution_count": null,
   "id": "80009d89",
   "metadata": {},
   "outputs": [],
   "source": [
    "plt.show()"
   ]
  },
  {
   "cell_type": "code",
   "execution_count": null,
   "id": "f69a3e79",
   "metadata": {},
   "outputs": [],
   "source": [
    "adata_covid"
   ]
  },
  {
   "cell_type": "code",
   "execution_count": null,
   "id": "81b685d1",
   "metadata": {},
   "outputs": [],
   "source": []
  }
 ],
 "metadata": {
  "kernelspec": {
   "display_name": "Python 3 (ipykernel)",
   "language": "python",
   "name": "python3"
  },
  "language_info": {
   "codemirror_mode": {
    "name": "ipython",
    "version": 3
   },
   "file_extension": ".py",
   "mimetype": "text/x-python",
   "name": "python",
   "nbconvert_exporter": "python",
   "pygments_lexer": "ipython3",
   "version": "3.10.8"
  }
 },
 "nbformat": 4,
 "nbformat_minor": 5
}
