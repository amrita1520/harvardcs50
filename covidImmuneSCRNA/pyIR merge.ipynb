{
 "cells": [
  {
   "cell_type": "code",
   "execution_count": 1,
   "id": "5012eba1",
   "metadata": {},
   "outputs": [],
   "source": [
    "from crowelab_pyir import PyIR"
   ]
  },
  {
   "cell_type": "code",
   "execution_count": 4,
   "id": "4de4b822",
   "metadata": {},
   "outputs": [],
   "source": [
    "FILE = '/home/arghya/Documents/dataset-vdj-practicee/sc5p_v2_hs_B_1k_multi_5gex_b_fastqs/sc5p_v2_hs_B_1k_b_fastqs/sc5p_v2_hs_B_1k_b_S1_L001_R1_001.fastq'"
   ]
  },
  {
   "cell_type": "code",
   "execution_count": 5,
   "id": "527055d2",
   "metadata": {},
   "outputs": [
    {
     "name": "stdout",
     "output_type": "stream",
     "text": [
      "Splitting input fastq file /home/arghya/Documents/dataset-vdj-practicee/sc5p_v2_hs_B_1k_multi_5gex_b_fastqs/sc5p_v2_hs_B_1k_b_fastqs/sc5p_v2_hs_B_1k_b_S1_L001_R1_001.fastq\n",
      "4,472,120 sequences successfully split into 11527 pieces\n",
      "Starting process pool using 8 processors\n"
     ]
    },
    {
     "name": "stderr",
     "output_type": "stream",
     "text": [
      "100%|█████████████████████████████| 4472120/4472120 [1:29:39<00:00, 831.28seq/s]\n"
     ]
    },
    {
     "name": "stdout",
     "output_type": "stream",
     "text": [
      "4,472,120 sequences processed in 5,401.2 seconds, 827 sequences / s\n",
      "Zipping up final output\n",
      "Analysis complete, result file: /home/arghya/Documents/dataset-vdj-practicee/sc5p_v2_hs_B_1k_multi_5gex_b_fastqs/sc5p_v2_hs_B_1k_b_fastqs/sc5p_v2_hs_B_1k_b_S1_L001_R1_001.tsv.gz\n",
      "/home/arghya/Documents/dataset-vdj-practicee/sc5p_v2_hs_B_1k_multi_5gex_b_fastqs/sc5p_v2_hs_B_1k_b_fastqs/sc5p_v2_hs_B_1k_b_S1_L001_R1_001.tsv.gz\n"
     ]
    }
   ],
   "source": [
    "pyirfile = PyIR(query=FILE, args=['--outfmt', 'tsv'])\n",
    "result = pyirfile.run()\n",
    "\n",
    "#Prints the output file\n",
    "print(result)"
   ]
  },
  {
   "cell_type": "code",
   "execution_count": 6,
   "id": "69fed2a8",
   "metadata": {},
   "outputs": [],
   "source": [
    "import pandas as pd"
   ]
  },
  {
   "cell_type": "code",
   "execution_count": 12,
   "id": "037b00b3",
   "metadata": {},
   "outputs": [],
   "source": [
    "import scanpy as sc\n",
    "import scirpy as ir"
   ]
  },
  {
   "cell_type": "code",
   "execution_count": 13,
   "id": "c38b895e",
   "metadata": {},
   "outputs": [
    {
     "ename": "KeyError",
     "evalue": "'cell_id'",
     "output_type": "error",
     "traceback": [
      "\u001b[0;31m---------------------------------------------------------------------------\u001b[0m",
      "\u001b[0;31mKeyError\u001b[0m                                  Traceback (most recent call last)",
      "Cell \u001b[0;32mIn[13], line 1\u001b[0m\n\u001b[0;32m----> 1\u001b[0m pyir_contig \u001b[38;5;241m=\u001b[39m \u001b[43mir\u001b[49m\u001b[38;5;241;43m.\u001b[39;49m\u001b[43mio\u001b[49m\u001b[38;5;241;43m.\u001b[39;49m\u001b[43mread_airr\u001b[49m\u001b[43m(\u001b[49m\u001b[38;5;124;43m\"\u001b[39;49m\u001b[38;5;124;43m/home/arghya/Documents/dataset-vdj-practicee/sc5p_v2_hs_B_1k_multi_5gex_b_fastqs/sc5p_v2_hs_B_1k_b_fastqs/sc5p_v2_hs_B_1k_b_S1_L001_R1_001.tsv\u001b[39;49m\u001b[38;5;124;43m\"\u001b[39;49m\u001b[43m)\u001b[49m\n",
      "File \u001b[0;32m~/mambaforge/lib/python3.10/site-packages/scirpy/io/_io.py:497\u001b[0m, in \u001b[0;36mread_airr\u001b[0;34m(path, use_umi_count_col, infer_locus, cell_attributes, include_fields)\u001b[0m\n\u001b[1;32m    494\u001b[0m     iterator \u001b[38;5;241m=\u001b[39m airr\u001b[38;5;241m.\u001b[39mread_rearrangement(\u001b[38;5;28mstr\u001b[39m(tmp_path_or_df))\n\u001b[1;32m    496\u001b[0m \u001b[38;5;28;01mfor\u001b[39;00m chain_dict \u001b[38;5;129;01min\u001b[39;00m iterator:\n\u001b[0;32m--> 497\u001b[0m     cell_id \u001b[38;5;241m=\u001b[39m \u001b[43mchain_dict\u001b[49m\u001b[38;5;241;43m.\u001b[39;49m\u001b[43mpop\u001b[49m\u001b[43m(\u001b[49m\u001b[38;5;124;43m\"\u001b[39;49m\u001b[38;5;124;43mcell_id\u001b[39;49m\u001b[38;5;124;43m\"\u001b[39;49m\u001b[43m)\u001b[49m\n\u001b[1;32m    499\u001b[0m     \u001b[38;5;28;01mtry\u001b[39;00m:\n\u001b[1;32m    500\u001b[0m         tmp_cell \u001b[38;5;241m=\u001b[39m airr_cells[cell_id]\n",
      "\u001b[0;31mKeyError\u001b[0m: 'cell_id'"
     ]
    }
   ],
   "source": [
    "pyir_contig = ir.io.read_airr(\"/home/arghya/Documents/dataset-vdj-practicee/sc5p_v2_hs_B_1k_multi_5gex_b_fastqs/sc5p_v2_hs_B_1k_b_fastqs/sc5p_v2_hs_B_1k_b_S1_L001_R1_001.tsv\")"
   ]
  },
  {
   "cell_type": "code",
   "execution_count": null,
   "id": "fb2799da",
   "metadata": {},
   "outputs": [],
   "source": []
  }
 ],
 "metadata": {
  "kernelspec": {
   "display_name": "Python 3 (ipykernel)",
   "language": "python",
   "name": "python3"
  },
  "language_info": {
   "codemirror_mode": {
    "name": "ipython",
    "version": 3
   },
   "file_extension": ".py",
   "mimetype": "text/x-python",
   "name": "python",
   "nbconvert_exporter": "python",
   "pygments_lexer": "ipython3",
   "version": "3.10.8"
  }
 },
 "nbformat": 4,
 "nbformat_minor": 5
}
